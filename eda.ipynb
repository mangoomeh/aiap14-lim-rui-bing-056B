{
 "cells": [
  {
   "cell_type": "markdown",
   "id": "7da3c8b6",
   "metadata": {},
   "source": [
    "# AIAP 14 Assessment - Exploratory Data Analysis"
   ]
  },
  {
   "cell_type": "markdown",
   "id": "3540f63a",
   "metadata": {},
   "source": [
    "## Preliminaries"
   ]
  },
  {
   "cell_type": "markdown",
   "id": "3085b757",
   "metadata": {},
   "source": [
    "### 1. Import packages, import dataset and display first 5 rows of dataframe"
   ]
  },
  {
   "cell_type": "code",
   "execution_count": 1,
   "id": "08ec1b9d",
   "metadata": {},
   "outputs": [],
   "source": [
    "# import required modules\n",
    "import sqlite3\n",
    "import pandas as pd\n",
    "import seaborn as sns\n",
    "import matplotlib.pyplot as plt\n",
    "import numpy as np\n",
    "\n",
    "from sklearn.impute import SimpleImputer\n",
    "from sklearn.preprocessing import LabelEncoder\n",
    "from sklearn.model_selection import train_test_split"
   ]
  },
  {
   "cell_type": "code",
   "execution_count": 2,
   "id": "4301677a",
   "metadata": {
    "scrolled": true
   },
   "outputs": [],
   "source": [
    "# import dataset\n",
    "conn = sqlite3.connect(\"./fishing.db\")\n",
    "fishing_df = pd.read_sql_query(\"SELECT * FROM fishing\", conn)"
   ]
  },
  {
   "cell_type": "code",
   "execution_count": 3,
   "id": "6a7bc93c",
   "metadata": {
    "scrolled": true
   },
   "outputs": [
    {
     "data": {
      "text/html": [
       "<div>\n",
       "<style scoped>\n",
       "    .dataframe tbody tr th:only-of-type {\n",
       "        vertical-align: middle;\n",
       "    }\n",
       "\n",
       "    .dataframe tbody tr th {\n",
       "        vertical-align: top;\n",
       "    }\n",
       "\n",
       "    .dataframe thead th {\n",
       "        text-align: right;\n",
       "    }\n",
       "</style>\n",
       "<table border=\"1\" class=\"dataframe\">\n",
       "  <thead>\n",
       "    <tr style=\"text-align: right;\">\n",
       "      <th></th>\n",
       "      <th>Date</th>\n",
       "      <th>Location</th>\n",
       "      <th>Rainfall</th>\n",
       "      <th>Evaporation</th>\n",
       "      <th>Sunshine</th>\n",
       "      <th>WindGustDir</th>\n",
       "      <th>WindGustSpeed</th>\n",
       "      <th>WindDir9am</th>\n",
       "      <th>WindDir3pm</th>\n",
       "      <th>WindSpeed9am</th>\n",
       "      <th>WindSpeed3pm</th>\n",
       "      <th>Humidity9am</th>\n",
       "      <th>Humidity3pm</th>\n",
       "      <th>Pressure9am</th>\n",
       "      <th>Pressure3pm</th>\n",
       "      <th>Cloud9am</th>\n",
       "      <th>Cloud3pm</th>\n",
       "      <th>RainToday</th>\n",
       "      <th>RainTomorrow</th>\n",
       "      <th>ColourOfBoats</th>\n",
       "      <th>AverageTemp</th>\n",
       "    </tr>\n",
       "  </thead>\n",
       "  <tbody>\n",
       "    <tr>\n",
       "      <th>0</th>\n",
       "      <td>2009-03-08</td>\n",
       "      <td>Changi</td>\n",
       "      <td>0.0</td>\n",
       "      <td>7.0</td>\n",
       "      <td>11.2</td>\n",
       "      <td>E</td>\n",
       "      <td>35.0</td>\n",
       "      <td>E</td>\n",
       "      <td>ESE</td>\n",
       "      <td>15.0</td>\n",
       "      <td>19.0</td>\n",
       "      <td>60.0</td>\n",
       "      <td>54.0</td>\n",
       "      <td>MED</td>\n",
       "      <td>Med</td>\n",
       "      <td>4.0</td>\n",
       "      <td>5.0</td>\n",
       "      <td>No</td>\n",
       "      <td>No</td>\n",
       "      <td>blue</td>\n",
       "      <td>33.4</td>\n",
       "    </tr>\n",
       "    <tr>\n",
       "      <th>1</th>\n",
       "      <td>2014-11-12</td>\n",
       "      <td>Woodlands</td>\n",
       "      <td>0.0</td>\n",
       "      <td>8.4</td>\n",
       "      <td>9.6</td>\n",
       "      <td>WNW</td>\n",
       "      <td>37.0</td>\n",
       "      <td>NNE</td>\n",
       "      <td>NW</td>\n",
       "      <td>13.0</td>\n",
       "      <td>28.0</td>\n",
       "      <td>60.0</td>\n",
       "      <td>56.0</td>\n",
       "      <td>MeD</td>\n",
       "      <td>LOw</td>\n",
       "      <td>1.0</td>\n",
       "      <td>2.0</td>\n",
       "      <td>None</td>\n",
       "      <td>Yes</td>\n",
       "      <td>blue</td>\n",
       "      <td>35.4</td>\n",
       "    </tr>\n",
       "    <tr>\n",
       "      <th>2</th>\n",
       "      <td>2008-08-08</td>\n",
       "      <td>Woodlands</td>\n",
       "      <td>0.0</td>\n",
       "      <td>7.6</td>\n",
       "      <td>11.1</td>\n",
       "      <td>ESE</td>\n",
       "      <td>52.0</td>\n",
       "      <td>SE</td>\n",
       "      <td>E</td>\n",
       "      <td>19.0</td>\n",
       "      <td>19.0</td>\n",
       "      <td>NaN</td>\n",
       "      <td>13.0</td>\n",
       "      <td>Med</td>\n",
       "      <td>MEd</td>\n",
       "      <td>0.0</td>\n",
       "      <td>0.0</td>\n",
       "      <td>None</td>\n",
       "      <td>No</td>\n",
       "      <td>blue</td>\n",
       "      <td>32.8</td>\n",
       "    </tr>\n",
       "    <tr>\n",
       "      <th>3</th>\n",
       "      <td>2015-10-12</td>\n",
       "      <td>Changi</td>\n",
       "      <td>0.0</td>\n",
       "      <td>7.2</td>\n",
       "      <td>11.4</td>\n",
       "      <td>NE</td>\n",
       "      <td>31.0</td>\n",
       "      <td>NNW</td>\n",
       "      <td>NE</td>\n",
       "      <td>9.0</td>\n",
       "      <td>13.0</td>\n",
       "      <td>51.0</td>\n",
       "      <td>53.0</td>\n",
       "      <td>hIgh</td>\n",
       "      <td>med</td>\n",
       "      <td>1.0</td>\n",
       "      <td>1.0</td>\n",
       "      <td>No</td>\n",
       "      <td>No</td>\n",
       "      <td>red</td>\n",
       "      <td>31.4</td>\n",
       "    </tr>\n",
       "    <tr>\n",
       "      <th>4</th>\n",
       "      <td>2013-10-27</td>\n",
       "      <td>Woodlands</td>\n",
       "      <td>5.6</td>\n",
       "      <td>7.0</td>\n",
       "      <td>8.5</td>\n",
       "      <td>NNW</td>\n",
       "      <td>33.0</td>\n",
       "      <td>N</td>\n",
       "      <td>N</td>\n",
       "      <td>13.0</td>\n",
       "      <td>19.0</td>\n",
       "      <td>68.0</td>\n",
       "      <td>64.0</td>\n",
       "      <td>meD</td>\n",
       "      <td>MeD</td>\n",
       "      <td>6.0</td>\n",
       "      <td>5.0</td>\n",
       "      <td>None</td>\n",
       "      <td>No</td>\n",
       "      <td>grey</td>\n",
       "      <td>35.4</td>\n",
       "    </tr>\n",
       "  </tbody>\n",
       "</table>\n",
       "</div>"
      ],
      "text/plain": [
       "         Date   Location  Rainfall  Evaporation  Sunshine WindGustDir   \n",
       "0  2009-03-08     Changi       0.0          7.0      11.2           E  \\\n",
       "1  2014-11-12  Woodlands       0.0          8.4       9.6         WNW   \n",
       "2  2008-08-08  Woodlands       0.0          7.6      11.1         ESE   \n",
       "3  2015-10-12     Changi       0.0          7.2      11.4          NE   \n",
       "4  2013-10-27  Woodlands       5.6          7.0       8.5         NNW   \n",
       "\n",
       "   WindGustSpeed WindDir9am WindDir3pm  WindSpeed9am  WindSpeed3pm   \n",
       "0           35.0          E        ESE          15.0          19.0  \\\n",
       "1           37.0        NNE         NW          13.0          28.0   \n",
       "2           52.0         SE          E          19.0          19.0   \n",
       "3           31.0        NNW         NE           9.0          13.0   \n",
       "4           33.0          N          N          13.0          19.0   \n",
       "\n",
       "   Humidity9am  Humidity3pm Pressure9am Pressure3pm  Cloud9am  Cloud3pm   \n",
       "0         60.0         54.0         MED         Med       4.0       5.0  \\\n",
       "1         60.0         56.0         MeD         LOw       1.0       2.0   \n",
       "2          NaN         13.0         Med         MEd       0.0       0.0   \n",
       "3         51.0         53.0        hIgh         med       1.0       1.0   \n",
       "4         68.0         64.0         meD         MeD       6.0       5.0   \n",
       "\n",
       "  RainToday RainTomorrow ColourOfBoats  AverageTemp  \n",
       "0        No           No          blue         33.4  \n",
       "1      None          Yes          blue         35.4  \n",
       "2      None           No          blue         32.8  \n",
       "3        No           No           red         31.4  \n",
       "4      None           No          grey         35.4  "
      ]
     },
     "execution_count": 3,
     "metadata": {},
     "output_type": "execute_result"
    }
   ],
   "source": [
    "# display first 5 rows of dataset\n",
    "pd.set_option('display.max_columns', None)\n",
    "fishing_df.head()"
   ]
  },
  {
   "cell_type": "markdown",
   "id": "0062287c",
   "metadata": {},
   "source": [
    "<b>Observations:</b>\n",
    "1. Target variable is \"RainTomorrow\" since we are predicting if it rains tomorrow\n",
    "2. Invalid casing in the pressure columns"
   ]
  },
  {
   "cell_type": "markdown",
   "id": "b884e009",
   "metadata": {},
   "source": [
    "### 2. Look at more information and summary statistics of dataframe"
   ]
  },
  {
   "cell_type": "code",
   "execution_count": 4,
   "id": "f35145fd",
   "metadata": {},
   "outputs": [
    {
     "name": "stdout",
     "output_type": "stream",
     "text": [
      "<class 'pandas.core.frame.DataFrame'>\n",
      "RangeIndex: 12997 entries, 0 to 12996\n",
      "Data columns (total 21 columns):\n",
      " #   Column         Non-Null Count  Dtype  \n",
      "---  ------         --------------  -----  \n",
      " 0   Date           12997 non-null  object \n",
      " 1   Location       12997 non-null  object \n",
      " 2   Rainfall       12997 non-null  float64\n",
      " 3   Evaporation    12917 non-null  float64\n",
      " 4   Sunshine       12939 non-null  float64\n",
      " 5   WindGustDir    12913 non-null  object \n",
      " 6   WindGustSpeed  12917 non-null  float64\n",
      " 7   WindDir9am     12697 non-null  object \n",
      " 8   WindDir3pm     12945 non-null  object \n",
      " 9   WindSpeed9am   12992 non-null  float64\n",
      " 10  WindSpeed3pm   12991 non-null  float64\n",
      " 11  Humidity9am    12983 non-null  float64\n",
      " 12  Humidity3pm    12970 non-null  float64\n",
      " 13  Pressure9am    12995 non-null  object \n",
      " 14  Pressure3pm    12989 non-null  object \n",
      " 15  Cloud9am       12693 non-null  float64\n",
      " 16  Cloud3pm       12615 non-null  float64\n",
      " 17  RainToday      9799 non-null   object \n",
      " 18  RainTomorrow   12997 non-null  object \n",
      " 19  ColourOfBoats  12997 non-null  object \n",
      " 20  AverageTemp    12988 non-null  float64\n",
      "dtypes: float64(11), object(10)\n",
      "memory usage: 2.1+ MB\n"
     ]
    }
   ],
   "source": [
    "# display more information regarding the dataframe\n",
    "fishing_df.info()"
   ]
  },
  {
   "cell_type": "markdown",
   "id": "69c8de52",
   "metadata": {},
   "source": [
    "<b>Observations:</b>\n",
    "1. There are 12997 rows\n",
    "2. There are many columns with missing data\n",
    "3. Can change the date column to datetime type\n",
    "4. Can create a new feature for the month of the year - seasonal rainfall"
   ]
  },
  {
   "cell_type": "code",
   "execution_count": 5,
   "id": "a30e84a5",
   "metadata": {},
   "outputs": [
    {
     "data": {
      "text/html": [
       "<div>\n",
       "<style scoped>\n",
       "    .dataframe tbody tr th:only-of-type {\n",
       "        vertical-align: middle;\n",
       "    }\n",
       "\n",
       "    .dataframe tbody tr th {\n",
       "        vertical-align: top;\n",
       "    }\n",
       "\n",
       "    .dataframe thead th {\n",
       "        text-align: right;\n",
       "    }\n",
       "</style>\n",
       "<table border=\"1\" class=\"dataframe\">\n",
       "  <thead>\n",
       "    <tr style=\"text-align: right;\">\n",
       "      <th></th>\n",
       "      <th>count</th>\n",
       "      <th>mean</th>\n",
       "      <th>std</th>\n",
       "      <th>min</th>\n",
       "      <th>25%</th>\n",
       "      <th>50%</th>\n",
       "      <th>75%</th>\n",
       "      <th>max</th>\n",
       "    </tr>\n",
       "  </thead>\n",
       "  <tbody>\n",
       "    <tr>\n",
       "      <th>Rainfall</th>\n",
       "      <td>12997.0</td>\n",
       "      <td>3.040532</td>\n",
       "      <td>10.958255</td>\n",
       "      <td>0.0</td>\n",
       "      <td>0.00</td>\n",
       "      <td>0.0</td>\n",
       "      <td>0.8</td>\n",
       "      <td>367.6</td>\n",
       "    </tr>\n",
       "    <tr>\n",
       "      <th>Evaporation</th>\n",
       "      <td>12917.0</td>\n",
       "      <td>5.551955</td>\n",
       "      <td>2.898708</td>\n",
       "      <td>0.0</td>\n",
       "      <td>3.40</td>\n",
       "      <td>5.4</td>\n",
       "      <td>7.4</td>\n",
       "      <td>44.0</td>\n",
       "    </tr>\n",
       "    <tr>\n",
       "      <th>Sunshine</th>\n",
       "      <td>12939.0</td>\n",
       "      <td>6.496236</td>\n",
       "      <td>6.026236</td>\n",
       "      <td>-13.5</td>\n",
       "      <td>3.95</td>\n",
       "      <td>8.7</td>\n",
       "      <td>10.7</td>\n",
       "      <td>13.9</td>\n",
       "    </tr>\n",
       "    <tr>\n",
       "      <th>WindGustSpeed</th>\n",
       "      <td>12917.0</td>\n",
       "      <td>36.640164</td>\n",
       "      <td>12.628845</td>\n",
       "      <td>9.0</td>\n",
       "      <td>28.00</td>\n",
       "      <td>35.0</td>\n",
       "      <td>43.0</td>\n",
       "      <td>126.0</td>\n",
       "    </tr>\n",
       "    <tr>\n",
       "      <th>WindSpeed9am</th>\n",
       "      <td>12992.0</td>\n",
       "      <td>12.456974</td>\n",
       "      <td>8.341814</td>\n",
       "      <td>0.0</td>\n",
       "      <td>7.00</td>\n",
       "      <td>11.0</td>\n",
       "      <td>17.0</td>\n",
       "      <td>65.0</td>\n",
       "    </tr>\n",
       "    <tr>\n",
       "      <th>WindSpeed3pm</th>\n",
       "      <td>12991.0</td>\n",
       "      <td>16.703102</td>\n",
       "      <td>7.882508</td>\n",
       "      <td>0.0</td>\n",
       "      <td>11.00</td>\n",
       "      <td>15.0</td>\n",
       "      <td>20.0</td>\n",
       "      <td>76.0</td>\n",
       "    </tr>\n",
       "    <tr>\n",
       "      <th>Humidity9am</th>\n",
       "      <td>12983.0</td>\n",
       "      <td>65.476623</td>\n",
       "      <td>15.460822</td>\n",
       "      <td>11.0</td>\n",
       "      <td>56.00</td>\n",
       "      <td>66.0</td>\n",
       "      <td>76.0</td>\n",
       "      <td>100.0</td>\n",
       "    </tr>\n",
       "    <tr>\n",
       "      <th>Humidity3pm</th>\n",
       "      <td>12970.0</td>\n",
       "      <td>50.818813</td>\n",
       "      <td>16.865362</td>\n",
       "      <td>5.0</td>\n",
       "      <td>40.00</td>\n",
       "      <td>51.0</td>\n",
       "      <td>61.0</td>\n",
       "      <td>100.0</td>\n",
       "    </tr>\n",
       "    <tr>\n",
       "      <th>Cloud9am</th>\n",
       "      <td>12693.0</td>\n",
       "      <td>4.108879</td>\n",
       "      <td>2.727825</td>\n",
       "      <td>0.0</td>\n",
       "      <td>1.00</td>\n",
       "      <td>4.0</td>\n",
       "      <td>7.0</td>\n",
       "      <td>8.0</td>\n",
       "    </tr>\n",
       "    <tr>\n",
       "      <th>Cloud3pm</th>\n",
       "      <td>12615.0</td>\n",
       "      <td>4.124138</td>\n",
       "      <td>2.646195</td>\n",
       "      <td>0.0</td>\n",
       "      <td>1.00</td>\n",
       "      <td>4.0</td>\n",
       "      <td>7.0</td>\n",
       "      <td>8.0</td>\n",
       "    </tr>\n",
       "    <tr>\n",
       "      <th>AverageTemp</th>\n",
       "      <td>12988.0</td>\n",
       "      <td>31.522144</td>\n",
       "      <td>2.960591</td>\n",
       "      <td>24.3</td>\n",
       "      <td>29.10</td>\n",
       "      <td>31.7</td>\n",
       "      <td>34.2</td>\n",
       "      <td>38.5</td>\n",
       "    </tr>\n",
       "  </tbody>\n",
       "</table>\n",
       "</div>"
      ],
      "text/plain": [
       "                 count       mean        std   min    25%   50%   75%    max\n",
       "Rainfall       12997.0   3.040532  10.958255   0.0   0.00   0.0   0.8  367.6\n",
       "Evaporation    12917.0   5.551955   2.898708   0.0   3.40   5.4   7.4   44.0\n",
       "Sunshine       12939.0   6.496236   6.026236 -13.5   3.95   8.7  10.7   13.9\n",
       "WindGustSpeed  12917.0  36.640164  12.628845   9.0  28.00  35.0  43.0  126.0\n",
       "WindSpeed9am   12992.0  12.456974   8.341814   0.0   7.00  11.0  17.0   65.0\n",
       "WindSpeed3pm   12991.0  16.703102   7.882508   0.0  11.00  15.0  20.0   76.0\n",
       "Humidity9am    12983.0  65.476623  15.460822  11.0  56.00  66.0  76.0  100.0\n",
       "Humidity3pm    12970.0  50.818813  16.865362   5.0  40.00  51.0  61.0  100.0\n",
       "Cloud9am       12693.0   4.108879   2.727825   0.0   1.00   4.0   7.0    8.0\n",
       "Cloud3pm       12615.0   4.124138   2.646195   0.0   1.00   4.0   7.0    8.0\n",
       "AverageTemp    12988.0  31.522144   2.960591  24.3  29.10  31.7  34.2   38.5"
      ]
     },
     "execution_count": 5,
     "metadata": {},
     "output_type": "execute_result"
    }
   ],
   "source": [
    "# summary statistics of the dataframe\n",
    "fishing_df.describe().transpose()"
   ]
  },
  {
   "cell_type": "markdown",
   "id": "8cbc12a2",
   "metadata": {},
   "source": [
    "<b>Observations:</b>\n",
    "1. Negative sunshine values which is invalid because according to data dictionary, sunshine column refers to the number of hours of sunlight"
   ]
  },
  {
   "cell_type": "markdown",
   "id": "663de875",
   "metadata": {},
   "source": [
    "### 3. Closer look at categorical features"
   ]
  },
  {
   "cell_type": "code",
   "execution_count": 6,
   "id": "12278dc7",
   "metadata": {},
   "outputs": [
    {
     "data": {
      "text/plain": [
       "Index(['Date', 'Location', 'WindGustDir', 'WindDir9am', 'WindDir3pm',\n",
       "       'Pressure9am', 'Pressure3pm', 'RainToday', 'RainTomorrow',\n",
       "       'ColourOfBoats'],\n",
       "      dtype='object')"
      ]
     },
     "metadata": {},
     "output_type": "display_data"
    }
   ],
   "source": [
    "# get features of object datatype\n",
    "categorical_features = fishing_df.select_dtypes(\"object\").columns\n",
    "display(categorical_features)"
   ]
  },
  {
   "cell_type": "code",
   "execution_count": 7,
   "id": "52f388dc",
   "metadata": {},
   "outputs": [
    {
     "data": {
      "text/plain": [
       "'Date'"
      ]
     },
     "metadata": {},
     "output_type": "display_data"
    },
    {
     "data": {
      "text/plain": [
       "array(['2009-03-08', '2014-11-12', '2008-08-08', ..., '2015-12-25',\n",
       "       '2015-04-25', '2012-02-19'], dtype=object)"
      ]
     },
     "metadata": {},
     "output_type": "display_data"
    },
    {
     "data": {
      "text/plain": [
       "'Location'"
      ]
     },
     "metadata": {},
     "output_type": "display_data"
    },
    {
     "data": {
      "text/plain": [
       "array(['Changi', 'Woodlands', 'Tuas', 'Sentosa'], dtype=object)"
      ]
     },
     "metadata": {},
     "output_type": "display_data"
    },
    {
     "data": {
      "text/plain": [
       "'WindGustDir'"
      ]
     },
     "metadata": {},
     "output_type": "display_data"
    },
    {
     "data": {
      "text/plain": [
       "array(['E', 'WNW', 'ESE', 'NE', 'NNW', 'S', 'SSW', 'N', 'NW', 'ENE', 'W',\n",
       "       'WSW', 'SSE', 'SW', 'SE', 'NNE', None, 'NS', 'EW'], dtype=object)"
      ]
     },
     "metadata": {},
     "output_type": "display_data"
    },
    {
     "data": {
      "text/plain": [
       "'WindDir9am'"
      ]
     },
     "metadata": {},
     "output_type": "display_data"
    },
    {
     "data": {
      "text/plain": [
       "array(['E', 'NNE', 'SE', 'NNW', 'N', 'SSE', 'S', 'WSW', 'ENE', 'WNW',\n",
       "       'ESE', 'SSW', 'W', 'SW', 'NW', None, 'NE'], dtype=object)"
      ]
     },
     "metadata": {},
     "output_type": "display_data"
    },
    {
     "data": {
      "text/plain": [
       "'WindDir3pm'"
      ]
     },
     "metadata": {},
     "output_type": "display_data"
    },
    {
     "data": {
      "text/plain": [
       "array(['ESE', 'NW', 'E', 'NE', 'N', 'SSW', 'WNW', 'SSE', 'NNW', 'WSW',\n",
       "       'NNE', 'ENE', 'SE', 'S', 'SW', 'W', None], dtype=object)"
      ]
     },
     "metadata": {},
     "output_type": "display_data"
    },
    {
     "data": {
      "text/plain": [
       "'Pressure9am'"
      ]
     },
     "metadata": {},
     "output_type": "display_data"
    },
    {
     "data": {
      "text/plain": [
       "array(['MED', 'MeD', 'Med', 'hIgh', 'meD', 'MEd', 'LOW', 'mED', 'HigH',\n",
       "       'med', 'loW', 'hIgH', 'HiGh', 'LOw', 'hIGh', 'mEd', 'HIGH', 'lOw',\n",
       "       'LoW', 'HIgh', 'HiGH', 'higH', 'hIGH', 'hiGH', 'low', 'HIGh',\n",
       "       'Low', 'lOW', 'High', 'HIgH', 'high', 'hiGh', None], dtype=object)"
      ]
     },
     "metadata": {},
     "output_type": "display_data"
    },
    {
     "data": {
      "text/plain": [
       "'Pressure3pm'"
      ]
     },
     "metadata": {},
     "output_type": "display_data"
    },
    {
     "data": {
      "text/plain": [
       "array(['Med', 'LOw', 'MEd', 'med', 'MeD', 'MED', 'lOW', 'meD', 'mEd',\n",
       "       'HiGh', 'high', 'mED', 'LoW', 'HigH', 'HiGH', 'low', 'High', 'Low',\n",
       "       'hIgH', 'loW', 'HIgh', 'HIGH', 'HIGh', 'higH', 'hIgh', 'LOW',\n",
       "       'lOw', 'hiGH', 'hiGh', 'HIgH', 'hIGH', 'hIGh', None], dtype=object)"
      ]
     },
     "metadata": {},
     "output_type": "display_data"
    },
    {
     "data": {
      "text/plain": [
       "'RainToday'"
      ]
     },
     "metadata": {},
     "output_type": "display_data"
    },
    {
     "data": {
      "text/plain": [
       "array(['No', None, 'Yes'], dtype=object)"
      ]
     },
     "metadata": {},
     "output_type": "display_data"
    },
    {
     "data": {
      "text/plain": [
       "'RainTomorrow'"
      ]
     },
     "metadata": {},
     "output_type": "display_data"
    },
    {
     "data": {
      "text/plain": [
       "array(['No', 'Yes'], dtype=object)"
      ]
     },
     "metadata": {},
     "output_type": "display_data"
    },
    {
     "data": {
      "text/plain": [
       "'ColourOfBoats'"
      ]
     },
     "metadata": {},
     "output_type": "display_data"
    },
    {
     "data": {
      "text/plain": [
       "array(['blue', 'red', 'grey', 'white'], dtype=object)"
      ]
     },
     "metadata": {},
     "output_type": "display_data"
    }
   ],
   "source": [
    "for column in categorical_features:\n",
    "    display(column, fishing_df[column].unique())"
   ]
  },
  {
   "cell_type": "markdown",
   "id": "904f7fb6",
   "metadata": {},
   "source": [
    "<b>Observation:</b>\n",
    "1. Invalid values in \"WindGustDir\", NS and EW does not seem to be valid wind directions\n",
    "2. Confirms the casing issue seen earlier in the dataframe in the pressure columns"
   ]
  },
  {
   "cell_type": "markdown",
   "id": "06b7f7a3",
   "metadata": {},
   "source": [
    "## Data cleaning"
   ]
  },
  {
   "cell_type": "markdown",
   "id": "7138e776",
   "metadata": {},
   "source": [
    "### 1. Drop duplicate rows"
   ]
  },
  {
   "cell_type": "code",
   "execution_count": 8,
   "id": "2c702fc7",
   "metadata": {},
   "outputs": [
    {
     "data": {
      "text/plain": [
       "1182"
      ]
     },
     "execution_count": 8,
     "metadata": {},
     "output_type": "execute_result"
    }
   ],
   "source": [
    "# check if there are duplicates\n",
    "fishing_df.duplicated().sum()"
   ]
  },
  {
   "cell_type": "code",
   "execution_count": 9,
   "id": "f3251e7d",
   "metadata": {},
   "outputs": [
    {
     "data": {
      "text/plain": [
       "0"
      ]
     },
     "execution_count": 9,
     "metadata": {},
     "output_type": "execute_result"
    }
   ],
   "source": [
    "# drop duplicates\n",
    "clean_df = fishing_df.drop_duplicates()\n",
    "clean_df.duplicated().sum()"
   ]
  },
  {
   "cell_type": "code",
   "execution_count": 10,
   "id": "e5ccb30c",
   "metadata": {},
   "outputs": [
    {
     "data": {
      "text/plain": [
       "11815"
      ]
     },
     "metadata": {},
     "output_type": "display_data"
    }
   ],
   "source": [
    "# check number of rows left\n",
    "display(len(clean_df))"
   ]
  },
  {
   "cell_type": "markdown",
   "id": "3bd3362a",
   "metadata": {},
   "source": [
    "### 2. Address invalid data in the \"Sunshine\" column"
   ]
  },
  {
   "cell_type": "code",
   "execution_count": 11,
   "id": "5fad5718",
   "metadata": {},
   "outputs": [
    {
     "data": {
      "text/plain": [
       "-13.5"
      ]
     },
     "execution_count": 11,
     "metadata": {},
     "output_type": "execute_result"
    }
   ],
   "source": [
    "# take a look at the smallest number of hours of sunshine in a day\n",
    "clean_df[\"Sunshine\"].min()"
   ]
  },
  {
   "cell_type": "code",
   "execution_count": 12,
   "id": "7871e79e",
   "metadata": {},
   "outputs": [
    {
     "data": {
      "text/plain": [
       "0.0"
      ]
     },
     "execution_count": 12,
     "metadata": {},
     "output_type": "execute_result"
    }
   ],
   "source": [
    "# make all the sunshine values smaller than 0 to be null\n",
    "clean_df.loc[clean_df[\"Sunshine\"] < 0, \"Sunshine\"] = np.nan\n",
    "clean_df[\"Sunshine\"].min()"
   ]
  },
  {
   "cell_type": "markdown",
   "id": "551feb28",
   "metadata": {},
   "source": [
    "### 3. Address invalid data in the \"WindGustDir\" column"
   ]
  },
  {
   "cell_type": "code",
   "execution_count": 13,
   "id": "0ba110b4",
   "metadata": {},
   "outputs": [
    {
     "data": {
      "text/plain": [
       "array(['E', 'WNW', 'ESE', 'NE', 'NNW', 'S', 'SSW', 'N', 'NW', 'ENE', 'W',\n",
       "       'WSW', 'SSE', 'SW', 'SE', 'NNE', None, 'NS', 'EW'], dtype=object)"
      ]
     },
     "execution_count": 13,
     "metadata": {},
     "output_type": "execute_result"
    }
   ],
   "source": [
    "# display values in the column\n",
    "clean_df[\"WindGustDir\"].unique()"
   ]
  },
  {
   "cell_type": "code",
   "execution_count": 14,
   "id": "68497234",
   "metadata": {},
   "outputs": [
    {
     "data": {
      "text/plain": [
       "array(['E', 'WNW', 'ESE', 'NE', 'NNW', 'S', 'SSW', 'N', 'NW', 'ENE', 'W',\n",
       "       'WSW', 'SSE', 'SW', 'SE', 'NNE', None, nan], dtype=object)"
      ]
     },
     "execution_count": 14,
     "metadata": {},
     "output_type": "execute_result"
    }
   ],
   "source": [
    "# make all the wind gust direction value that is NS or EW to be null\n",
    "clean_df.loc[((clean_df[\"WindGustDir\"] == \"NS\") | (clean_df[\"WindGustDir\"] == \"EW\")), \"WindGustDir\"] = np.nan\n",
    "clean_df[\"WindGustDir\"].unique()"
   ]
  },
  {
   "cell_type": "markdown",
   "id": "06a10ffe",
   "metadata": {},
   "source": [
    "### 4. Address casing issues in pressure columns"
   ]
  },
  {
   "cell_type": "code",
   "execution_count": 15,
   "id": "48c5df41",
   "metadata": {},
   "outputs": [
    {
     "data": {
      "text/plain": [
       "array(['med', 'high', 'low', None], dtype=object)"
      ]
     },
     "metadata": {},
     "output_type": "display_data"
    },
    {
     "data": {
      "text/plain": [
       "array(['med', 'low', 'high', None], dtype=object)"
      ]
     },
     "metadata": {},
     "output_type": "display_data"
    }
   ],
   "source": [
    "# fix casing issues\n",
    "clean_df.loc[:, \"Pressure9am\"] = clean_df[\"Pressure9am\"].str.lower()\n",
    "clean_df.loc[:, \"Pressure3pm\"] = clean_df[\"Pressure3pm\"].str.lower()\n",
    "for column in [\"Pressure9am\", \"Pressure3pm\"]:\n",
    "    display(clean_df[column].unique())"
   ]
  },
  {
   "cell_type": "markdown",
   "id": "761f5168",
   "metadata": {},
   "source": [
    "### 5. Address missing values using simple imputation"
   ]
  },
  {
   "cell_type": "code",
   "execution_count": 16,
   "id": "39106246",
   "metadata": {},
   "outputs": [
    {
     "name": "stdout",
     "output_type": "stream",
     "text": [
      "<class 'pandas.core.frame.DataFrame'>\n",
      "Index: 11815 entries, 0 to 12996\n",
      "Data columns (total 21 columns):\n",
      " #   Column         Non-Null Count  Dtype  \n",
      "---  ------         --------------  -----  \n",
      " 0   Date           11815 non-null  object \n",
      " 1   Location       11815 non-null  object \n",
      " 2   Rainfall       11815 non-null  float64\n",
      " 3   Evaporation    11741 non-null  float64\n",
      " 4   Sunshine       10639 non-null  float64\n",
      " 5   WindGustDir    11625 non-null  object \n",
      " 6   WindGustSpeed  11743 non-null  float64\n",
      " 7   WindDir9am     11550 non-null  object \n",
      " 8   WindDir3pm     11768 non-null  object \n",
      " 9   WindSpeed9am   11811 non-null  float64\n",
      " 10  WindSpeed3pm   11810 non-null  float64\n",
      " 11  Humidity9am    11801 non-null  float64\n",
      " 12  Humidity3pm    11790 non-null  float64\n",
      " 13  Pressure9am    11813 non-null  object \n",
      " 14  Pressure3pm    11808 non-null  object \n",
      " 15  Cloud9am       11538 non-null  float64\n",
      " 16  Cloud3pm       11473 non-null  float64\n",
      " 17  RainToday      8912 non-null   object \n",
      " 18  RainTomorrow   11815 non-null  object \n",
      " 19  ColourOfBoats  11815 non-null  object \n",
      " 20  AverageTemp    11807 non-null  float64\n",
      "dtypes: float64(11), object(10)\n",
      "memory usage: 2.0+ MB\n"
     ]
    }
   ],
   "source": [
    "# view the columns with missing values\n",
    "clean_df.info()"
   ]
  },
  {
   "cell_type": "code",
   "execution_count": 17,
   "id": "58f11f74",
   "metadata": {},
   "outputs": [
    {
     "name": "stdout",
     "output_type": "stream",
     "text": [
      "<class 'pandas.core.frame.DataFrame'>\n",
      "Index: 11815 entries, 0 to 12996\n",
      "Data columns (total 21 columns):\n",
      " #   Column         Non-Null Count  Dtype  \n",
      "---  ------         --------------  -----  \n",
      " 0   Date           11815 non-null  object \n",
      " 1   Location       11815 non-null  object \n",
      " 2   Rainfall       11815 non-null  float64\n",
      " 3   Evaporation    11815 non-null  float64\n",
      " 4   Sunshine       11815 non-null  float64\n",
      " 5   WindGustDir    11815 non-null  object \n",
      " 6   WindGustSpeed  11815 non-null  float64\n",
      " 7   WindDir9am     11815 non-null  object \n",
      " 8   WindDir3pm     11815 non-null  object \n",
      " 9   WindSpeed9am   11815 non-null  float64\n",
      " 10  WindSpeed3pm   11815 non-null  float64\n",
      " 11  Humidity9am    11815 non-null  float64\n",
      " 12  Humidity3pm    11815 non-null  float64\n",
      " 13  Pressure9am    11815 non-null  object \n",
      " 14  Pressure3pm    11815 non-null  object \n",
      " 15  Cloud9am       11815 non-null  float64\n",
      " 16  Cloud3pm       11815 non-null  float64\n",
      " 17  RainToday      11815 non-null  object \n",
      " 18  RainTomorrow   11815 non-null  object \n",
      " 19  ColourOfBoats  11815 non-null  object \n",
      " 20  AverageTemp    11815 non-null  float64\n",
      "dtypes: float64(11), object(10)\n",
      "memory usage: 2.0+ MB\n"
     ]
    }
   ],
   "source": [
    "# impute values using SimpleImputer\n",
    "mean_imputer = SimpleImputer(strategy=\"mean\")\n",
    "mode_imputer = SimpleImputer(strategy=\"most_frequent\")\n",
    "\n",
    "# get numerical and categorical columns\n",
    "numerical_cols = clean_df.select_dtypes(\"number\").columns\n",
    "categorical_cols = clean_df.select_dtypes(\"object\").columns\n",
    "\n",
    "# impute\n",
    "clean_df = clean_df.fillna(value=np.nan)\n",
    "clean_df.loc[:, numerical_cols] = mean_imputer.fit_transform(clean_df[numerical_cols])\n",
    "clean_df.loc[:, categorical_cols] = mode_imputer.fit_transform(clean_df[categorical_cols])\n",
    "clean_df.info()"
   ]
  },
  {
   "cell_type": "code",
   "execution_count": 18,
   "id": "cbe8e38b",
   "metadata": {},
   "outputs": [
    {
     "data": {
      "text/plain": [
       "'Date'"
      ]
     },
     "metadata": {},
     "output_type": "display_data"
    },
    {
     "data": {
      "text/plain": [
       "array(['2009-03-08', '2014-11-12', '2008-08-08', ..., '2015-12-25',\n",
       "       '2015-04-25', '2012-02-19'], dtype=object)"
      ]
     },
     "metadata": {},
     "output_type": "display_data"
    },
    {
     "data": {
      "text/plain": [
       "'Location'"
      ]
     },
     "metadata": {},
     "output_type": "display_data"
    },
    {
     "data": {
      "text/plain": [
       "array(['Changi', 'Woodlands', 'Tuas', 'Sentosa'], dtype=object)"
      ]
     },
     "metadata": {},
     "output_type": "display_data"
    },
    {
     "data": {
      "text/plain": [
       "'WindGustDir'"
      ]
     },
     "metadata": {},
     "output_type": "display_data"
    },
    {
     "data": {
      "text/plain": [
       "array(['E', 'WNW', 'ESE', 'NE', 'NNW', 'S', 'SSW', 'N', 'NW', 'ENE', 'W',\n",
       "       'WSW', 'SSE', 'SW', 'SE', 'NNE'], dtype=object)"
      ]
     },
     "metadata": {},
     "output_type": "display_data"
    },
    {
     "data": {
      "text/plain": [
       "'WindDir9am'"
      ]
     },
     "metadata": {},
     "output_type": "display_data"
    },
    {
     "data": {
      "text/plain": [
       "array(['E', 'NNE', 'SE', 'NNW', 'N', 'SSE', 'S', 'WSW', 'ENE', 'WNW',\n",
       "       'ESE', 'SSW', 'W', 'SW', 'NW', 'NE'], dtype=object)"
      ]
     },
     "metadata": {},
     "output_type": "display_data"
    },
    {
     "data": {
      "text/plain": [
       "'WindDir3pm'"
      ]
     },
     "metadata": {},
     "output_type": "display_data"
    },
    {
     "data": {
      "text/plain": [
       "array(['ESE', 'NW', 'E', 'NE', 'N', 'SSW', 'WNW', 'SSE', 'NNW', 'WSW',\n",
       "       'NNE', 'ENE', 'SE', 'S', 'SW', 'W'], dtype=object)"
      ]
     },
     "metadata": {},
     "output_type": "display_data"
    },
    {
     "data": {
      "text/plain": [
       "'Pressure9am'"
      ]
     },
     "metadata": {},
     "output_type": "display_data"
    },
    {
     "data": {
      "text/plain": [
       "array(['med', 'high', 'low'], dtype=object)"
      ]
     },
     "metadata": {},
     "output_type": "display_data"
    },
    {
     "data": {
      "text/plain": [
       "'Pressure3pm'"
      ]
     },
     "metadata": {},
     "output_type": "display_data"
    },
    {
     "data": {
      "text/plain": [
       "array(['med', 'low', 'high'], dtype=object)"
      ]
     },
     "metadata": {},
     "output_type": "display_data"
    },
    {
     "data": {
      "text/plain": [
       "'RainToday'"
      ]
     },
     "metadata": {},
     "output_type": "display_data"
    },
    {
     "data": {
      "text/plain": [
       "array(['No', 'Yes'], dtype=object)"
      ]
     },
     "metadata": {},
     "output_type": "display_data"
    },
    {
     "data": {
      "text/plain": [
       "'RainTomorrow'"
      ]
     },
     "metadata": {},
     "output_type": "display_data"
    },
    {
     "data": {
      "text/plain": [
       "array(['No', 'Yes'], dtype=object)"
      ]
     },
     "metadata": {},
     "output_type": "display_data"
    },
    {
     "data": {
      "text/plain": [
       "'ColourOfBoats'"
      ]
     },
     "metadata": {},
     "output_type": "display_data"
    },
    {
     "data": {
      "text/plain": [
       "array(['blue', 'red', 'grey', 'white'], dtype=object)"
      ]
     },
     "metadata": {},
     "output_type": "display_data"
    }
   ],
   "source": [
    "for column in categorical_features:\n",
    "    display(column, clean_df[column].unique())"
   ]
  },
  {
   "cell_type": "markdown",
   "id": "e70ff162",
   "metadata": {},
   "source": [
    "Looks like we're good to go."
   ]
  },
  {
   "cell_type": "markdown",
   "id": "c2fa484a",
   "metadata": {},
   "source": [
    "## Feature engineering"
   ]
  },
  {
   "cell_type": "markdown",
   "id": "bdec7d29",
   "metadata": {},
   "source": [
    "### 1. Create month of the year column and date of the month column"
   ]
  },
  {
   "cell_type": "markdown",
   "id": "4947b3e6",
   "metadata": {},
   "source": [
    "One of the columns that might be important is the <b>date</b> because there might be rainy or monsoon seasons. As such, we might want to convert the date column to be of datetime type. Also, we don't want to lose any information regarding the day of the month as well."
   ]
  },
  {
   "cell_type": "code",
   "execution_count": 24,
   "id": "015c68b1",
   "metadata": {},
   "outputs": [],
   "source": [
    "# convert to datetime object\n",
    "clean_df[\"Date\"] = pd.to_datetime(clean_df[\"Date\"])"
   ]
  },
  {
   "cell_type": "code",
   "execution_count": 25,
   "id": "a0c0329a",
   "metadata": {},
   "outputs": [
    {
     "data": {
      "text/plain": [
       "0       2009-03-08\n",
       "1       2014-11-12\n",
       "2       2008-08-08\n",
       "3       2015-10-12\n",
       "4       2013-10-27\n",
       "           ...    \n",
       "12991   2011-08-21\n",
       "12992   2015-06-12\n",
       "12993   2016-09-29\n",
       "12995   2011-02-14\n",
       "12996   2016-03-04\n",
       "Name: Date, Length: 11815, dtype: datetime64[ns]"
      ]
     },
     "execution_count": 25,
     "metadata": {},
     "output_type": "execute_result"
    }
   ],
   "source": [
    "clean_df[\"Date\"]"
   ]
  },
  {
   "cell_type": "code",
   "execution_count": 20,
   "id": "2d1fcbd2",
   "metadata": {},
   "outputs": [
    {
     "ename": "AttributeError",
     "evalue": "Can only use .dt accessor with datetimelike values",
     "output_type": "error",
     "traceback": [
      "\u001b[1;31m---------------------------------------------------------------------------\u001b[0m",
      "\u001b[1;31mAttributeError\u001b[0m                            Traceback (most recent call last)",
      "Cell \u001b[1;32mIn[20], line 2\u001b[0m\n\u001b[0;32m      1\u001b[0m \u001b[38;5;66;03m# create day and month column in the dataframe\u001b[39;00m\n\u001b[1;32m----> 2\u001b[0m clean_df[\u001b[38;5;124m\"\u001b[39m\u001b[38;5;124mMonth\u001b[39m\u001b[38;5;124m\"\u001b[39m] \u001b[38;5;241m=\u001b[39m \u001b[43mclean_df\u001b[49m\u001b[43m[\u001b[49m\u001b[38;5;124;43m\"\u001b[39;49m\u001b[38;5;124;43mDate\u001b[39;49m\u001b[38;5;124;43m\"\u001b[39;49m\u001b[43m]\u001b[49m\u001b[38;5;241;43m.\u001b[39;49m\u001b[43mdt\u001b[49m\u001b[38;5;241m.\u001b[39mmonth\n\u001b[0;32m      3\u001b[0m clean_df[\u001b[38;5;124m\"\u001b[39m\u001b[38;5;124mDay\u001b[39m\u001b[38;5;124m\"\u001b[39m] \u001b[38;5;241m=\u001b[39m clean_df[\u001b[38;5;124m\"\u001b[39m\u001b[38;5;124mDate\u001b[39m\u001b[38;5;124m\"\u001b[39m]\u001b[38;5;241m.\u001b[39mdt\u001b[38;5;241m.\u001b[39mday\n\u001b[0;32m      5\u001b[0m \u001b[38;5;66;03m# drop date column\u001b[39;00m\n",
      "File \u001b[1;32m~\\Desktop\\venvs\\aiap14\\lib\\site-packages\\pandas\\core\\generic.py:5989\u001b[0m, in \u001b[0;36mNDFrame.__getattr__\u001b[1;34m(self, name)\u001b[0m\n\u001b[0;32m   5982\u001b[0m \u001b[38;5;28;01mif\u001b[39;00m (\n\u001b[0;32m   5983\u001b[0m     name \u001b[38;5;129;01mnot\u001b[39;00m \u001b[38;5;129;01min\u001b[39;00m \u001b[38;5;28mself\u001b[39m\u001b[38;5;241m.\u001b[39m_internal_names_set\n\u001b[0;32m   5984\u001b[0m     \u001b[38;5;129;01mand\u001b[39;00m name \u001b[38;5;129;01mnot\u001b[39;00m \u001b[38;5;129;01min\u001b[39;00m \u001b[38;5;28mself\u001b[39m\u001b[38;5;241m.\u001b[39m_metadata\n\u001b[0;32m   5985\u001b[0m     \u001b[38;5;129;01mand\u001b[39;00m name \u001b[38;5;129;01mnot\u001b[39;00m \u001b[38;5;129;01min\u001b[39;00m \u001b[38;5;28mself\u001b[39m\u001b[38;5;241m.\u001b[39m_accessors\n\u001b[0;32m   5986\u001b[0m     \u001b[38;5;129;01mand\u001b[39;00m \u001b[38;5;28mself\u001b[39m\u001b[38;5;241m.\u001b[39m_info_axis\u001b[38;5;241m.\u001b[39m_can_hold_identifiers_and_holds_name(name)\n\u001b[0;32m   5987\u001b[0m ):\n\u001b[0;32m   5988\u001b[0m     \u001b[38;5;28;01mreturn\u001b[39;00m \u001b[38;5;28mself\u001b[39m[name]\n\u001b[1;32m-> 5989\u001b[0m \u001b[38;5;28;01mreturn\u001b[39;00m \u001b[38;5;28;43mobject\u001b[39;49m\u001b[38;5;241;43m.\u001b[39;49m\u001b[38;5;21;43m__getattribute__\u001b[39;49m\u001b[43m(\u001b[49m\u001b[38;5;28;43mself\u001b[39;49m\u001b[43m,\u001b[49m\u001b[43m \u001b[49m\u001b[43mname\u001b[49m\u001b[43m)\u001b[49m\n",
      "File \u001b[1;32m~\\Desktop\\venvs\\aiap14\\lib\\site-packages\\pandas\\core\\accessor.py:224\u001b[0m, in \u001b[0;36mCachedAccessor.__get__\u001b[1;34m(self, obj, cls)\u001b[0m\n\u001b[0;32m    221\u001b[0m \u001b[38;5;28;01mif\u001b[39;00m obj \u001b[38;5;129;01mis\u001b[39;00m \u001b[38;5;28;01mNone\u001b[39;00m:\n\u001b[0;32m    222\u001b[0m     \u001b[38;5;66;03m# we're accessing the attribute of the class, i.e., Dataset.geo\u001b[39;00m\n\u001b[0;32m    223\u001b[0m     \u001b[38;5;28;01mreturn\u001b[39;00m \u001b[38;5;28mself\u001b[39m\u001b[38;5;241m.\u001b[39m_accessor\n\u001b[1;32m--> 224\u001b[0m accessor_obj \u001b[38;5;241m=\u001b[39m \u001b[38;5;28;43mself\u001b[39;49m\u001b[38;5;241;43m.\u001b[39;49m\u001b[43m_accessor\u001b[49m\u001b[43m(\u001b[49m\u001b[43mobj\u001b[49m\u001b[43m)\u001b[49m\n\u001b[0;32m    225\u001b[0m \u001b[38;5;66;03m# Replace the property with the accessor object. Inspired by:\u001b[39;00m\n\u001b[0;32m    226\u001b[0m \u001b[38;5;66;03m# https://www.pydanny.com/cached-property.html\u001b[39;00m\n\u001b[0;32m    227\u001b[0m \u001b[38;5;66;03m# We need to use object.__setattr__ because we overwrite __setattr__ on\u001b[39;00m\n\u001b[0;32m    228\u001b[0m \u001b[38;5;66;03m# NDFrame\u001b[39;00m\n\u001b[0;32m    229\u001b[0m \u001b[38;5;28mobject\u001b[39m\u001b[38;5;241m.\u001b[39m\u001b[38;5;21m__setattr__\u001b[39m(obj, \u001b[38;5;28mself\u001b[39m\u001b[38;5;241m.\u001b[39m_name, accessor_obj)\n",
      "File \u001b[1;32m~\\Desktop\\venvs\\aiap14\\lib\\site-packages\\pandas\\core\\indexes\\accessors.py:580\u001b[0m, in \u001b[0;36mCombinedDatetimelikeProperties.__new__\u001b[1;34m(cls, data)\u001b[0m\n\u001b[0;32m    577\u001b[0m \u001b[38;5;28;01melif\u001b[39;00m is_period_dtype(data\u001b[38;5;241m.\u001b[39mdtype):\n\u001b[0;32m    578\u001b[0m     \u001b[38;5;28;01mreturn\u001b[39;00m PeriodProperties(data, orig)\n\u001b[1;32m--> 580\u001b[0m \u001b[38;5;28;01mraise\u001b[39;00m \u001b[38;5;167;01mAttributeError\u001b[39;00m(\u001b[38;5;124m\"\u001b[39m\u001b[38;5;124mCan only use .dt accessor with datetimelike values\u001b[39m\u001b[38;5;124m\"\u001b[39m)\n",
      "\u001b[1;31mAttributeError\u001b[0m: Can only use .dt accessor with datetimelike values"
     ]
    }
   ],
   "source": [
    "# create day and month column in the dataframe\n",
    "clean_df[\"Month\"] = clean_df[\"Date\"].dt.month\n",
    "clean_df[\"Day\"] = clean_df[\"Date\"].dt.day\n",
    "\n",
    "# drop date column\n",
    "clean_df = clean_df.drop(columns=[\"Date\"])"
   ]
  },
  {
   "cell_type": "code",
   "execution_count": null,
   "id": "9b76efaa",
   "metadata": {
    "scrolled": false
   },
   "outputs": [],
   "source": [
    "# display dataframe again\n",
    "clean_df.head()"
   ]
  },
  {
   "cell_type": "markdown",
   "id": "4cc3513a",
   "metadata": {},
   "source": [
    "## Visualizing Data"
   ]
  },
  {
   "cell_type": "markdown",
   "id": "6efde8dc",
   "metadata": {},
   "source": [
    "### 1. Visualizing numerical features"
   ]
  },
  {
   "cell_type": "code",
   "execution_count": null,
   "id": "e4d9fc9f",
   "metadata": {},
   "outputs": [],
   "source": [
    "columns_to_visualise = [\"Rainfall\", \"Evaporation\", \"Sunshine\", \"WindGustSpeed\", \"Humidity9am\", \"Cloud9am\", \"AverageTemp\", \"RainTomorrow\"]\n",
    "sns.pairplot(clean_df[columns_to_visualise], hue=\"RainTomorrow\")\n",
    "plt.show()"
   ]
  },
  {
   "cell_type": "markdown",
   "id": "1e2c8e0c",
   "metadata": {},
   "source": [
    "<b>Observations:</b>\n",
    "1. Sunshine tends to be lower and rainfall tends to be higher when RainTomorrow = Yes\n",
    "2. Humidity tends to be higher and at higher rainfall when RainTomorrow = Yes\n",
    "3. Cloud cover tends to be higher when sunshine is less, rainfall is more and RainTomorrow = Yes\n",
    "4. Average temperatures become less extreme as rainfall increases\n",
    "5. Evaporation tends to be higher at higher average temperatures"
   ]
  },
  {
   "cell_type": "markdown",
   "id": "e9135451",
   "metadata": {},
   "source": [
    "### 2. Visualizing categorical features"
   ]
  },
  {
   "cell_type": "code",
   "execution_count": null,
   "id": "d7a3c129",
   "metadata": {},
   "outputs": [],
   "source": [
    "sns.countplot(data=clean_df, x=\"Location\", hue=\"RainTomorrow\")\n",
    "plt.show()"
   ]
  },
  {
   "cell_type": "code",
   "execution_count": null,
   "id": "02e4bd02",
   "metadata": {},
   "outputs": [],
   "source": [
    "sns.countplot(data=clean_df, x=\"WindGustDir\", hue=\"RainTomorrow\")\n",
    "plt.show()"
   ]
  },
  {
   "cell_type": "code",
   "execution_count": null,
   "id": "653b1bf2",
   "metadata": {},
   "outputs": [],
   "source": [
    "sns.countplot(data=clean_df, x=\"Pressure9am\", hue=\"RainTomorrow\")\n",
    "plt.show()"
   ]
  },
  {
   "cell_type": "code",
   "execution_count": null,
   "id": "fa0a192d",
   "metadata": {},
   "outputs": [],
   "source": [
    "sns.countplot(data=clean_df, x=\"RainToday\", hue=\"RainTomorrow\")\n",
    "plt.show()"
   ]
  },
  {
   "cell_type": "code",
   "execution_count": null,
   "id": "3fd41dd4",
   "metadata": {},
   "outputs": [],
   "source": [
    "sns.countplot(data=clean_df, x=\"ColourOfBoats\", hue=\"RainTomorrow\")\n",
    "plt.show()"
   ]
  },
  {
   "cell_type": "markdown",
   "id": "5d9104ce",
   "metadata": {},
   "source": [
    "<b>Observations:</b>\n",
    "1. Woodlands seems to have more instances of RainTomorrow = Yes\n",
    "2. Lower 9am pressures seem to have more instances of RainTomorrow = Yes\n",
    "3. Raining today tends to rain tomorrow\n",
    "4. Colour of boats and RainTomorrow does not really have any correlation"
   ]
  },
  {
   "cell_type": "markdown",
   "id": "947db61b",
   "metadata": {},
   "source": [
    "## Encoding variables"
   ]
  },
  {
   "cell_type": "code",
   "execution_count": null,
   "id": "46b270dc",
   "metadata": {},
   "outputs": [],
   "source": [
    "display(clean_df.select_dtypes(\"object\").columns)"
   ]
  },
  {
   "cell_type": "markdown",
   "id": "fcfb27f8",
   "metadata": {},
   "source": [
    "<b>For ordinal encoding:</b>\n",
    "1. Pressure9am\n",
    "2. Pressure3pm\n",
    "3. RainToday\n",
    "4. RainTomorrow\n",
    "\n",
    "<b>For one-hot encoding:</b>\n",
    " 1. Location\n",
    " 2. WindGustDir\n",
    " 3. WindDir9am\n",
    " 4. WindDir3pm\n",
    " 5. ColourOfBoats"
   ]
  },
  {
   "cell_type": "code",
   "execution_count": null,
   "id": "061cf1ee",
   "metadata": {
    "scrolled": true
   },
   "outputs": [],
   "source": [
    "# setup our encoder\n",
    "pressure_encoder = LabelEncoder()\n",
    "pressure_encoder.fit([\"low\", \"med\", \"high\"])\n",
    "rain_encoder = LabelEncoder()\n",
    "rain_encoder.fit([\"No\", \"Yes\"])\n",
    "\n",
    "# encode\n",
    "pressure_columns = [\"Pressure9am\", \"Pressure3pm\"]\n",
    "for col in pressure_columns:\n",
    "    clean_df[col] = pressure_encoder.transform(clean_df[col])\n",
    "\n",
    "rain_columns = [\"RainToday\", \"RainTomorrow\"]\n",
    "for col in rain_columns:\n",
    "    clean_df[col] = rain_encoder.transform(clean_df[col])\n",
    "    \n",
    "ohe_columns = [\"Location\", \"WindGustDir\", \"WindDir9am\", \"WindDir3pm\", \"ColourOfBoats\"]\n",
    "clean_df = pd.get_dummies(data=clean_df, columns=ohe_columns, dtype=float)\n",
    "\n",
    "# display new df\n",
    "clean_df.head()"
   ]
  },
  {
   "cell_type": "markdown",
   "id": "fb615de7",
   "metadata": {},
   "source": [
    "## Modelling"
   ]
  },
  {
   "cell_type": "markdown",
   "id": "96ea43c8",
   "metadata": {},
   "source": [
    "### 1. Split data into training and test set"
   ]
  },
  {
   "cell_type": "code",
   "execution_count": null,
   "id": "104600bd",
   "metadata": {},
   "outputs": [],
   "source": [
    "# get y-values\n",
    "y = clean_df[\"RainTomorrow\"]\n",
    "\n",
    "# get feaures\n",
    "X = clean_df.loc[:, fishing_df.columns != \"RainTomorrow\"]\n",
    "\n",
    "# split data into training and testing set\n",
    "X_train, X_test, y_train, y_test = train_test_split(X, y, random_state=2, test_size=0.2)"
   ]
  }
 ],
 "metadata": {
  "kernelspec": {
   "display_name": "aiap14",
   "language": "python",
   "name": "aiap14"
  },
  "language_info": {
   "codemirror_mode": {
    "name": "ipython",
    "version": 3
   },
   "file_extension": ".py",
   "mimetype": "text/x-python",
   "name": "python",
   "nbconvert_exporter": "python",
   "pygments_lexer": "ipython3",
   "version": "3.9.10"
  }
 },
 "nbformat": 4,
 "nbformat_minor": 5
}
