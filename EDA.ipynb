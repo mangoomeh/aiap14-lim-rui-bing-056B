{
 "cells": [
  {
   "cell_type": "markdown",
   "id": "7da3c8b6",
   "metadata": {},
   "source": [
    "# AIAP 14 Assessment"
   ]
  },
  {
   "cell_type": "markdown",
   "id": "f40b2e07",
   "metadata": {},
   "source": [
    "## Exploratory Data Analysis"
   ]
  },
  {
   "cell_type": "markdown",
   "id": "3540f63a",
   "metadata": {},
   "source": [
    "### Import modules"
   ]
  },
  {
   "cell_type": "code",
   "execution_count": 93,
   "id": "08ec1b9d",
   "metadata": {},
   "outputs": [],
   "source": [
    "import sqlite3\n",
    "import pandas as pd\n",
    "import seaborn as sns"
   ]
  },
  {
   "cell_type": "markdown",
   "id": "726eaaca",
   "metadata": {},
   "source": [
    "### Import dataset"
   ]
  },
  {
   "cell_type": "code",
   "execution_count": 94,
   "id": "4301677a",
   "metadata": {
    "scrolled": true
   },
   "outputs": [
    {
     "data": {
      "text/html": [
       "<div>\n",
       "<style scoped>\n",
       "    .dataframe tbody tr th:only-of-type {\n",
       "        vertical-align: middle;\n",
       "    }\n",
       "\n",
       "    .dataframe tbody tr th {\n",
       "        vertical-align: top;\n",
       "    }\n",
       "\n",
       "    .dataframe thead th {\n",
       "        text-align: right;\n",
       "    }\n",
       "</style>\n",
       "<table border=\"1\" class=\"dataframe\">\n",
       "  <thead>\n",
       "    <tr style=\"text-align: right;\">\n",
       "      <th></th>\n",
       "      <th>Date</th>\n",
       "      <th>Location</th>\n",
       "      <th>Rainfall</th>\n",
       "      <th>Evaporation</th>\n",
       "      <th>Sunshine</th>\n",
       "      <th>WindGustDir</th>\n",
       "      <th>WindGustSpeed</th>\n",
       "      <th>WindDir9am</th>\n",
       "      <th>WindDir3pm</th>\n",
       "      <th>WindSpeed9am</th>\n",
       "      <th>WindSpeed3pm</th>\n",
       "      <th>Humidity9am</th>\n",
       "      <th>Humidity3pm</th>\n",
       "      <th>Pressure9am</th>\n",
       "      <th>Pressure3pm</th>\n",
       "      <th>Cloud9am</th>\n",
       "      <th>Cloud3pm</th>\n",
       "      <th>RainToday</th>\n",
       "      <th>RainTomorrow</th>\n",
       "      <th>ColourOfBoats</th>\n",
       "      <th>AverageTemp</th>\n",
       "    </tr>\n",
       "  </thead>\n",
       "  <tbody>\n",
       "    <tr>\n",
       "      <th>0</th>\n",
       "      <td>2009-03-08</td>\n",
       "      <td>Changi</td>\n",
       "      <td>0.0</td>\n",
       "      <td>7.0</td>\n",
       "      <td>11.2</td>\n",
       "      <td>E</td>\n",
       "      <td>35.0</td>\n",
       "      <td>E</td>\n",
       "      <td>ESE</td>\n",
       "      <td>15.0</td>\n",
       "      <td>19.0</td>\n",
       "      <td>60.0</td>\n",
       "      <td>54.0</td>\n",
       "      <td>MED</td>\n",
       "      <td>Med</td>\n",
       "      <td>4.0</td>\n",
       "      <td>5.0</td>\n",
       "      <td>No</td>\n",
       "      <td>No</td>\n",
       "      <td>blue</td>\n",
       "      <td>33.4</td>\n",
       "    </tr>\n",
       "    <tr>\n",
       "      <th>1</th>\n",
       "      <td>2014-11-12</td>\n",
       "      <td>Woodlands</td>\n",
       "      <td>0.0</td>\n",
       "      <td>8.4</td>\n",
       "      <td>9.6</td>\n",
       "      <td>WNW</td>\n",
       "      <td>37.0</td>\n",
       "      <td>NNE</td>\n",
       "      <td>NW</td>\n",
       "      <td>13.0</td>\n",
       "      <td>28.0</td>\n",
       "      <td>60.0</td>\n",
       "      <td>56.0</td>\n",
       "      <td>MeD</td>\n",
       "      <td>LOw</td>\n",
       "      <td>1.0</td>\n",
       "      <td>2.0</td>\n",
       "      <td>None</td>\n",
       "      <td>Yes</td>\n",
       "      <td>blue</td>\n",
       "      <td>35.4</td>\n",
       "    </tr>\n",
       "    <tr>\n",
       "      <th>2</th>\n",
       "      <td>2008-08-08</td>\n",
       "      <td>Woodlands</td>\n",
       "      <td>0.0</td>\n",
       "      <td>7.6</td>\n",
       "      <td>11.1</td>\n",
       "      <td>ESE</td>\n",
       "      <td>52.0</td>\n",
       "      <td>SE</td>\n",
       "      <td>E</td>\n",
       "      <td>19.0</td>\n",
       "      <td>19.0</td>\n",
       "      <td>NaN</td>\n",
       "      <td>13.0</td>\n",
       "      <td>Med</td>\n",
       "      <td>MEd</td>\n",
       "      <td>0.0</td>\n",
       "      <td>0.0</td>\n",
       "      <td>None</td>\n",
       "      <td>No</td>\n",
       "      <td>blue</td>\n",
       "      <td>32.8</td>\n",
       "    </tr>\n",
       "    <tr>\n",
       "      <th>3</th>\n",
       "      <td>2015-10-12</td>\n",
       "      <td>Changi</td>\n",
       "      <td>0.0</td>\n",
       "      <td>7.2</td>\n",
       "      <td>11.4</td>\n",
       "      <td>NE</td>\n",
       "      <td>31.0</td>\n",
       "      <td>NNW</td>\n",
       "      <td>NE</td>\n",
       "      <td>9.0</td>\n",
       "      <td>13.0</td>\n",
       "      <td>51.0</td>\n",
       "      <td>53.0</td>\n",
       "      <td>hIgh</td>\n",
       "      <td>med</td>\n",
       "      <td>1.0</td>\n",
       "      <td>1.0</td>\n",
       "      <td>No</td>\n",
       "      <td>No</td>\n",
       "      <td>red</td>\n",
       "      <td>31.4</td>\n",
       "    </tr>\n",
       "    <tr>\n",
       "      <th>4</th>\n",
       "      <td>2013-10-27</td>\n",
       "      <td>Woodlands</td>\n",
       "      <td>5.6</td>\n",
       "      <td>7.0</td>\n",
       "      <td>8.5</td>\n",
       "      <td>NNW</td>\n",
       "      <td>33.0</td>\n",
       "      <td>N</td>\n",
       "      <td>N</td>\n",
       "      <td>13.0</td>\n",
       "      <td>19.0</td>\n",
       "      <td>68.0</td>\n",
       "      <td>64.0</td>\n",
       "      <td>meD</td>\n",
       "      <td>MeD</td>\n",
       "      <td>6.0</td>\n",
       "      <td>5.0</td>\n",
       "      <td>None</td>\n",
       "      <td>No</td>\n",
       "      <td>grey</td>\n",
       "      <td>35.4</td>\n",
       "    </tr>\n",
       "  </tbody>\n",
       "</table>\n",
       "</div>"
      ],
      "text/plain": [
       "         Date   Location  Rainfall  Evaporation  Sunshine WindGustDir   \n",
       "0  2009-03-08     Changi       0.0          7.0      11.2           E  \\\n",
       "1  2014-11-12  Woodlands       0.0          8.4       9.6         WNW   \n",
       "2  2008-08-08  Woodlands       0.0          7.6      11.1         ESE   \n",
       "3  2015-10-12     Changi       0.0          7.2      11.4          NE   \n",
       "4  2013-10-27  Woodlands       5.6          7.0       8.5         NNW   \n",
       "\n",
       "   WindGustSpeed WindDir9am WindDir3pm  WindSpeed9am  WindSpeed3pm   \n",
       "0           35.0          E        ESE          15.0          19.0  \\\n",
       "1           37.0        NNE         NW          13.0          28.0   \n",
       "2           52.0         SE          E          19.0          19.0   \n",
       "3           31.0        NNW         NE           9.0          13.0   \n",
       "4           33.0          N          N          13.0          19.0   \n",
       "\n",
       "   Humidity9am  Humidity3pm Pressure9am Pressure3pm  Cloud9am  Cloud3pm   \n",
       "0         60.0         54.0         MED         Med       4.0       5.0  \\\n",
       "1         60.0         56.0         MeD         LOw       1.0       2.0   \n",
       "2          NaN         13.0         Med         MEd       0.0       0.0   \n",
       "3         51.0         53.0        hIgh         med       1.0       1.0   \n",
       "4         68.0         64.0         meD         MeD       6.0       5.0   \n",
       "\n",
       "  RainToday RainTomorrow ColourOfBoats  AverageTemp  \n",
       "0        No           No          blue         33.4  \n",
       "1      None          Yes          blue         35.4  \n",
       "2      None           No          blue         32.8  \n",
       "3        No           No           red         31.4  \n",
       "4      None           No          grey         35.4  "
      ]
     },
     "execution_count": 94,
     "metadata": {},
     "output_type": "execute_result"
    }
   ],
   "source": [
    "conn = sqlite3.connect(\"./fishing.db\")\n",
    "fishing_df = pd.read_sql_query(\"SELECT * FROM fishing\", conn)\n",
    "pd.set_option('display.max_columns', None)\n",
    "fishing_df.head()"
   ]
  },
  {
   "cell_type": "markdown",
   "id": "29f9afe2",
   "metadata": {},
   "source": [
    "Some observations:\n",
    "1. There are missing values\n",
    "2. Inconsistent casing in pressure columns\n",
    "3. Most frequent colour of boat spotted is probably not useful for the prediction\n",
    "4. \"No\" and \"None\" in RainToday column"
   ]
  },
  {
   "cell_type": "markdown",
   "id": "a5426630",
   "metadata": {},
   "source": [
    "### Initial exploration"
   ]
  },
  {
   "cell_type": "markdown",
   "id": "87261f17",
   "metadata": {},
   "source": [
    "Let's take a look at general information regarding the dataset"
   ]
  },
  {
   "cell_type": "code",
   "execution_count": 95,
   "id": "e554f09e",
   "metadata": {},
   "outputs": [
    {
     "name": "stdout",
     "output_type": "stream",
     "text": [
      "<class 'pandas.core.frame.DataFrame'>\n",
      "RangeIndex: 12997 entries, 0 to 12996\n",
      "Data columns (total 21 columns):\n",
      " #   Column         Non-Null Count  Dtype  \n",
      "---  ------         --------------  -----  \n",
      " 0   Date           12997 non-null  object \n",
      " 1   Location       12997 non-null  object \n",
      " 2   Rainfall       12997 non-null  float64\n",
      " 3   Evaporation    12917 non-null  float64\n",
      " 4   Sunshine       12939 non-null  float64\n",
      " 5   WindGustDir    12913 non-null  object \n",
      " 6   WindGustSpeed  12917 non-null  float64\n",
      " 7   WindDir9am     12697 non-null  object \n",
      " 8   WindDir3pm     12945 non-null  object \n",
      " 9   WindSpeed9am   12992 non-null  float64\n",
      " 10  WindSpeed3pm   12991 non-null  float64\n",
      " 11  Humidity9am    12983 non-null  float64\n",
      " 12  Humidity3pm    12970 non-null  float64\n",
      " 13  Pressure9am    12995 non-null  object \n",
      " 14  Pressure3pm    12989 non-null  object \n",
      " 15  Cloud9am       12693 non-null  float64\n",
      " 16  Cloud3pm       12615 non-null  float64\n",
      " 17  RainToday      9799 non-null   object \n",
      " 18  RainTomorrow   12997 non-null  object \n",
      " 19  ColourOfBoats  12997 non-null  object \n",
      " 20  AverageTemp    12988 non-null  float64\n",
      "dtypes: float64(11), object(10)\n",
      "memory usage: 2.1+ MB\n"
     ]
    }
   ],
   "source": [
    "fishing_df.info()"
   ]
  },
  {
   "cell_type": "markdown",
   "id": "53f4069b",
   "metadata": {},
   "source": [
    "Couple of observations:\n",
    "1. Total number of observations = 12997\n",
    "2. There are missing data for many columns"
   ]
  },
  {
   "cell_type": "markdown",
   "id": "e941ee1a",
   "metadata": {},
   "source": [
    "Let's take a look at numerical variables"
   ]
  },
  {
   "cell_type": "code",
   "execution_count": 96,
   "id": "3ed77002",
   "metadata": {},
   "outputs": [
    {
     "data": {
      "text/html": [
       "<div>\n",
       "<style scoped>\n",
       "    .dataframe tbody tr th:only-of-type {\n",
       "        vertical-align: middle;\n",
       "    }\n",
       "\n",
       "    .dataframe tbody tr th {\n",
       "        vertical-align: top;\n",
       "    }\n",
       "\n",
       "    .dataframe thead th {\n",
       "        text-align: right;\n",
       "    }\n",
       "</style>\n",
       "<table border=\"1\" class=\"dataframe\">\n",
       "  <thead>\n",
       "    <tr style=\"text-align: right;\">\n",
       "      <th></th>\n",
       "      <th>Rainfall</th>\n",
       "      <th>Evaporation</th>\n",
       "      <th>Sunshine</th>\n",
       "      <th>WindGustSpeed</th>\n",
       "      <th>WindSpeed9am</th>\n",
       "      <th>WindSpeed3pm</th>\n",
       "      <th>Humidity9am</th>\n",
       "      <th>Humidity3pm</th>\n",
       "      <th>Cloud9am</th>\n",
       "      <th>Cloud3pm</th>\n",
       "      <th>AverageTemp</th>\n",
       "    </tr>\n",
       "  </thead>\n",
       "  <tbody>\n",
       "    <tr>\n",
       "      <th>count</th>\n",
       "      <td>12997.000000</td>\n",
       "      <td>12917.000000</td>\n",
       "      <td>12939.000000</td>\n",
       "      <td>12917.000000</td>\n",
       "      <td>12992.000000</td>\n",
       "      <td>12991.000000</td>\n",
       "      <td>12983.000000</td>\n",
       "      <td>12970.000000</td>\n",
       "      <td>12693.000000</td>\n",
       "      <td>12615.000000</td>\n",
       "      <td>12988.000000</td>\n",
       "    </tr>\n",
       "    <tr>\n",
       "      <th>mean</th>\n",
       "      <td>3.040532</td>\n",
       "      <td>5.551955</td>\n",
       "      <td>6.496236</td>\n",
       "      <td>36.640164</td>\n",
       "      <td>12.456974</td>\n",
       "      <td>16.703102</td>\n",
       "      <td>65.476623</td>\n",
       "      <td>50.818813</td>\n",
       "      <td>4.108879</td>\n",
       "      <td>4.124138</td>\n",
       "      <td>31.522144</td>\n",
       "    </tr>\n",
       "    <tr>\n",
       "      <th>std</th>\n",
       "      <td>10.958255</td>\n",
       "      <td>2.898708</td>\n",
       "      <td>6.026236</td>\n",
       "      <td>12.628845</td>\n",
       "      <td>8.341814</td>\n",
       "      <td>7.882508</td>\n",
       "      <td>15.460822</td>\n",
       "      <td>16.865362</td>\n",
       "      <td>2.727825</td>\n",
       "      <td>2.646195</td>\n",
       "      <td>2.960591</td>\n",
       "    </tr>\n",
       "    <tr>\n",
       "      <th>min</th>\n",
       "      <td>0.000000</td>\n",
       "      <td>0.000000</td>\n",
       "      <td>-13.500000</td>\n",
       "      <td>9.000000</td>\n",
       "      <td>0.000000</td>\n",
       "      <td>0.000000</td>\n",
       "      <td>11.000000</td>\n",
       "      <td>5.000000</td>\n",
       "      <td>0.000000</td>\n",
       "      <td>0.000000</td>\n",
       "      <td>24.300000</td>\n",
       "    </tr>\n",
       "    <tr>\n",
       "      <th>25%</th>\n",
       "      <td>0.000000</td>\n",
       "      <td>3.400000</td>\n",
       "      <td>3.950000</td>\n",
       "      <td>28.000000</td>\n",
       "      <td>7.000000</td>\n",
       "      <td>11.000000</td>\n",
       "      <td>56.000000</td>\n",
       "      <td>40.000000</td>\n",
       "      <td>1.000000</td>\n",
       "      <td>1.000000</td>\n",
       "      <td>29.100000</td>\n",
       "    </tr>\n",
       "    <tr>\n",
       "      <th>50%</th>\n",
       "      <td>0.000000</td>\n",
       "      <td>5.400000</td>\n",
       "      <td>8.700000</td>\n",
       "      <td>35.000000</td>\n",
       "      <td>11.000000</td>\n",
       "      <td>15.000000</td>\n",
       "      <td>66.000000</td>\n",
       "      <td>51.000000</td>\n",
       "      <td>4.000000</td>\n",
       "      <td>4.000000</td>\n",
       "      <td>31.700000</td>\n",
       "    </tr>\n",
       "    <tr>\n",
       "      <th>75%</th>\n",
       "      <td>0.800000</td>\n",
       "      <td>7.400000</td>\n",
       "      <td>10.700000</td>\n",
       "      <td>43.000000</td>\n",
       "      <td>17.000000</td>\n",
       "      <td>20.000000</td>\n",
       "      <td>76.000000</td>\n",
       "      <td>61.000000</td>\n",
       "      <td>7.000000</td>\n",
       "      <td>7.000000</td>\n",
       "      <td>34.200000</td>\n",
       "    </tr>\n",
       "    <tr>\n",
       "      <th>max</th>\n",
       "      <td>367.600000</td>\n",
       "      <td>44.000000</td>\n",
       "      <td>13.900000</td>\n",
       "      <td>126.000000</td>\n",
       "      <td>65.000000</td>\n",
       "      <td>76.000000</td>\n",
       "      <td>100.000000</td>\n",
       "      <td>100.000000</td>\n",
       "      <td>8.000000</td>\n",
       "      <td>8.000000</td>\n",
       "      <td>38.500000</td>\n",
       "    </tr>\n",
       "  </tbody>\n",
       "</table>\n",
       "</div>"
      ],
      "text/plain": [
       "           Rainfall   Evaporation      Sunshine  WindGustSpeed  WindSpeed9am   \n",
       "count  12997.000000  12917.000000  12939.000000   12917.000000  12992.000000  \\\n",
       "mean       3.040532      5.551955      6.496236      36.640164     12.456974   \n",
       "std       10.958255      2.898708      6.026236      12.628845      8.341814   \n",
       "min        0.000000      0.000000    -13.500000       9.000000      0.000000   \n",
       "25%        0.000000      3.400000      3.950000      28.000000      7.000000   \n",
       "50%        0.000000      5.400000      8.700000      35.000000     11.000000   \n",
       "75%        0.800000      7.400000     10.700000      43.000000     17.000000   \n",
       "max      367.600000     44.000000     13.900000     126.000000     65.000000   \n",
       "\n",
       "       WindSpeed3pm   Humidity9am   Humidity3pm      Cloud9am      Cloud3pm   \n",
       "count  12991.000000  12983.000000  12970.000000  12693.000000  12615.000000  \\\n",
       "mean      16.703102     65.476623     50.818813      4.108879      4.124138   \n",
       "std        7.882508     15.460822     16.865362      2.727825      2.646195   \n",
       "min        0.000000     11.000000      5.000000      0.000000      0.000000   \n",
       "25%       11.000000     56.000000     40.000000      1.000000      1.000000   \n",
       "50%       15.000000     66.000000     51.000000      4.000000      4.000000   \n",
       "75%       20.000000     76.000000     61.000000      7.000000      7.000000   \n",
       "max       76.000000    100.000000    100.000000      8.000000      8.000000   \n",
       "\n",
       "        AverageTemp  \n",
       "count  12988.000000  \n",
       "mean      31.522144  \n",
       "std        2.960591  \n",
       "min       24.300000  \n",
       "25%       29.100000  \n",
       "50%       31.700000  \n",
       "75%       34.200000  \n",
       "max       38.500000  "
      ]
     },
     "execution_count": 96,
     "metadata": {},
     "output_type": "execute_result"
    }
   ],
   "source": [
    "fishing_df.describe()"
   ]
  },
  {
   "cell_type": "markdown",
   "id": "6e749a6e",
   "metadata": {},
   "source": [
    "There is negative values for sunshine. We will look into whether this is valid."
   ]
  },
  {
   "cell_type": "markdown",
   "id": "5049db6c",
   "metadata": {},
   "source": [
    "Let's have a closer look at categorical variables"
   ]
  },
  {
   "cell_type": "code",
   "execution_count": 97,
   "id": "ac3a9554",
   "metadata": {},
   "outputs": [
    {
     "data": {
      "text/plain": [
       "'Date'"
      ]
     },
     "metadata": {},
     "output_type": "display_data"
    },
    {
     "data": {
      "text/plain": [
       "array(['2009-03-08', '2014-11-12', '2008-08-08', ..., '2015-12-25',\n",
       "       '2015-04-25', '2012-02-19'], dtype=object)"
      ]
     },
     "metadata": {},
     "output_type": "display_data"
    },
    {
     "data": {
      "text/plain": [
       "'Location'"
      ]
     },
     "metadata": {},
     "output_type": "display_data"
    },
    {
     "data": {
      "text/plain": [
       "array(['Changi', 'Woodlands', 'Tuas', 'Sentosa'], dtype=object)"
      ]
     },
     "metadata": {},
     "output_type": "display_data"
    },
    {
     "data": {
      "text/plain": [
       "'WindGustDir'"
      ]
     },
     "metadata": {},
     "output_type": "display_data"
    },
    {
     "data": {
      "text/plain": [
       "array(['E', 'WNW', 'ESE', 'NE', 'NNW', 'S', 'SSW', 'N', 'NW', 'ENE', 'W',\n",
       "       'WSW', 'SSE', 'SW', 'SE', 'NNE', None, 'NS', 'EW'], dtype=object)"
      ]
     },
     "metadata": {},
     "output_type": "display_data"
    },
    {
     "data": {
      "text/plain": [
       "'WindDir9am'"
      ]
     },
     "metadata": {},
     "output_type": "display_data"
    },
    {
     "data": {
      "text/plain": [
       "array(['E', 'NNE', 'SE', 'NNW', 'N', 'SSE', 'S', 'WSW', 'ENE', 'WNW',\n",
       "       'ESE', 'SSW', 'W', 'SW', 'NW', None, 'NE'], dtype=object)"
      ]
     },
     "metadata": {},
     "output_type": "display_data"
    },
    {
     "data": {
      "text/plain": [
       "'WindDir3pm'"
      ]
     },
     "metadata": {},
     "output_type": "display_data"
    },
    {
     "data": {
      "text/plain": [
       "array(['ESE', 'NW', 'E', 'NE', 'N', 'SSW', 'WNW', 'SSE', 'NNW', 'WSW',\n",
       "       'NNE', 'ENE', 'SE', 'S', 'SW', 'W', None], dtype=object)"
      ]
     },
     "metadata": {},
     "output_type": "display_data"
    },
    {
     "data": {
      "text/plain": [
       "'Pressure9am'"
      ]
     },
     "metadata": {},
     "output_type": "display_data"
    },
    {
     "data": {
      "text/plain": [
       "array(['MED', 'MeD', 'Med', 'hIgh', 'meD', 'MEd', 'LOW', 'mED', 'HigH',\n",
       "       'med', 'loW', 'hIgH', 'HiGh', 'LOw', 'hIGh', 'mEd', 'HIGH', 'lOw',\n",
       "       'LoW', 'HIgh', 'HiGH', 'higH', 'hIGH', 'hiGH', 'low', 'HIGh',\n",
       "       'Low', 'lOW', 'High', 'HIgH', 'high', 'hiGh', None], dtype=object)"
      ]
     },
     "metadata": {},
     "output_type": "display_data"
    },
    {
     "data": {
      "text/plain": [
       "'Pressure3pm'"
      ]
     },
     "metadata": {},
     "output_type": "display_data"
    },
    {
     "data": {
      "text/plain": [
       "array(['Med', 'LOw', 'MEd', 'med', 'MeD', 'MED', 'lOW', 'meD', 'mEd',\n",
       "       'HiGh', 'high', 'mED', 'LoW', 'HigH', 'HiGH', 'low', 'High', 'Low',\n",
       "       'hIgH', 'loW', 'HIgh', 'HIGH', 'HIGh', 'higH', 'hIgh', 'LOW',\n",
       "       'lOw', 'hiGH', 'hiGh', 'HIgH', 'hIGH', 'hIGh', None], dtype=object)"
      ]
     },
     "metadata": {},
     "output_type": "display_data"
    },
    {
     "data": {
      "text/plain": [
       "'RainToday'"
      ]
     },
     "metadata": {},
     "output_type": "display_data"
    },
    {
     "data": {
      "text/plain": [
       "array(['No', None, 'Yes'], dtype=object)"
      ]
     },
     "metadata": {},
     "output_type": "display_data"
    },
    {
     "data": {
      "text/plain": [
       "'RainTomorrow'"
      ]
     },
     "metadata": {},
     "output_type": "display_data"
    },
    {
     "data": {
      "text/plain": [
       "array(['No', 'Yes'], dtype=object)"
      ]
     },
     "metadata": {},
     "output_type": "display_data"
    },
    {
     "data": {
      "text/plain": [
       "'ColourOfBoats'"
      ]
     },
     "metadata": {},
     "output_type": "display_data"
    },
    {
     "data": {
      "text/plain": [
       "array(['blue', 'red', 'grey', 'white'], dtype=object)"
      ]
     },
     "metadata": {},
     "output_type": "display_data"
    }
   ],
   "source": [
    "for column in fishing_df.select_dtypes(\"object\").columns:\n",
    "    display(column, fishing_df[column].unique())"
   ]
  },
  {
   "cell_type": "markdown",
   "id": "703d5ccb",
   "metadata": {},
   "source": [
    "Some observations:\n",
    "1. None values\n",
    "2. Casing problems for pressure columns"
   ]
  },
  {
   "cell_type": "markdown",
   "id": "c4705051",
   "metadata": {},
   "source": [
    "### Address missing values"
   ]
  },
  {
   "cell_type": "markdown",
   "id": "5fa61042",
   "metadata": {},
   "source": [
    "Approach\n",
    "1. Drop from columns that have < 5% missing data\n",
    "2. For imputation, we look at distribution and decide to impute mean or median\n",
    "3. For categorical variables, impute mode"
   ]
  },
  {
   "cell_type": "code",
   "execution_count": 98,
   "id": "b53e3bdd",
   "metadata": {},
   "outputs": [
    {
     "data": {
      "text/plain": [
       "Index(['Date', 'Location', 'Rainfall', 'Evaporation', 'Sunshine',\n",
       "       'WindGustDir', 'WindGustSpeed', 'WindDir9am', 'WindDir3pm',\n",
       "       'WindSpeed9am', 'WindSpeed3pm', 'Humidity9am', 'Humidity3pm',\n",
       "       'Pressure9am', 'Pressure3pm', 'Cloud9am', 'Cloud3pm', 'RainTomorrow',\n",
       "       'ColourOfBoats', 'AverageTemp'],\n",
       "      dtype='object')"
      ]
     },
     "metadata": {},
     "output_type": "display_data"
    },
    {
     "data": {
      "text/plain": [
       "Index(['RainToday'], dtype='object')"
      ]
     },
     "metadata": {},
     "output_type": "display_data"
    }
   ],
   "source": [
    "threshold = 0.05 * len(fishing_df)\n",
    "condition_to_drop = fishing_df.isnull().sum() < threshold\n",
    "cols_to_drop = fishing_df.columns[condition_to_drop]\n",
    "cols_to_not_drop = fishing_df.columns[~condition_to_drop]\n",
    "display(cols_to_drop)\n",
    "display(cols_to_not_drop)"
   ]
  },
  {
   "cell_type": "code",
   "execution_count": 99,
   "id": "03173cc2",
   "metadata": {},
   "outputs": [
    {
     "name": "stdout",
     "output_type": "stream",
     "text": [
      "<class 'pandas.core.frame.DataFrame'>\n",
      "Index: 12026 entries, 0 to 12996\n",
      "Data columns (total 21 columns):\n",
      " #   Column         Non-Null Count  Dtype  \n",
      "---  ------         --------------  -----  \n",
      " 0   Date           12026 non-null  object \n",
      " 1   Location       12026 non-null  object \n",
      " 2   Rainfall       12026 non-null  float64\n",
      " 3   Evaporation    12026 non-null  float64\n",
      " 4   Sunshine       12026 non-null  float64\n",
      " 5   WindGustDir    12026 non-null  object \n",
      " 6   WindGustSpeed  12026 non-null  float64\n",
      " 7   WindDir9am     12026 non-null  object \n",
      " 8   WindDir3pm     12026 non-null  object \n",
      " 9   WindSpeed9am   12026 non-null  float64\n",
      " 10  WindSpeed3pm   12026 non-null  float64\n",
      " 11  Humidity9am    12026 non-null  float64\n",
      " 12  Humidity3pm    12026 non-null  float64\n",
      " 13  Pressure9am    12026 non-null  object \n",
      " 14  Pressure3pm    12026 non-null  object \n",
      " 15  Cloud9am       12026 non-null  float64\n",
      " 16  Cloud3pm       12026 non-null  float64\n",
      " 17  RainToday      9054 non-null   object \n",
      " 18  RainTomorrow   12026 non-null  object \n",
      " 19  ColourOfBoats  12026 non-null  object \n",
      " 20  AverageTemp    12026 non-null  float64\n",
      "dtypes: float64(11), object(10)\n",
      "memory usage: 2.0+ MB\n"
     ]
    }
   ],
   "source": [
    "fishing_df.dropna(subset=cols_to_drop, inplace=True)\n",
    "fishing_df.info()"
   ]
  },
  {
   "cell_type": "markdown",
   "id": "1283dbf1",
   "metadata": {},
   "source": [
    "Now let's decide how to deal with RainToday"
   ]
  },
  {
   "cell_type": "code",
   "execution_count": 100,
   "id": "609ac88d",
   "metadata": {},
   "outputs": [
    {
     "data": {
      "text/plain": [
       "RainToday\n",
       "No     6935\n",
       "Yes    2119\n",
       "Name: count, dtype: int64"
      ]
     },
     "execution_count": 100,
     "metadata": {},
     "output_type": "execute_result"
    }
   ],
   "source": [
    "fishing_df[\"RainToday\"].value_counts()"
   ]
  },
  {
   "cell_type": "markdown",
   "id": "3e8886f7",
   "metadata": {},
   "source": [
    "Decided to perform random sample imputation for RainToday because:\n",
    "1. This information might be useful, so we cannot just drop the column\n",
    "2. We cannot just assign \"No\" even though it is the mode because it will make the data unrepresentative\n",
    "3. Simple way to fill in missing values"
   ]
  },
  {
   "cell_type": "code",
   "execution_count": 101,
   "id": "55bd4401",
   "metadata": {},
   "outputs": [],
   "source": [
    " # extract a random sample\n",
    "random_sample_df = fishing_df[\"RainToday\"].dropna().sample(fishing_df[\"RainToday\"].isnull().sum(), random_state=0)\n",
    "\n",
    "# re-index the randomly extracted sample\n",
    "random_sample_df.index = fishing_df[fishing_df[\"RainToday\"].isnull()].index\n",
    "\n",
    "# replace the NA\n",
    "fishing_df.loc[fishing_df[\"RainToday\"].isnull(), \"RainToday\"] = random_sample_df"
   ]
  },
  {
   "cell_type": "code",
   "execution_count": 102,
   "id": "31686058",
   "metadata": {},
   "outputs": [
    {
     "data": {
      "text/plain": [
       "RainToday\n",
       "No     9192\n",
       "Yes    2834\n",
       "Name: count, dtype: int64"
      ]
     },
     "execution_count": 102,
     "metadata": {},
     "output_type": "execute_result"
    }
   ],
   "source": [
    "fishing_df[\"RainToday\"].value_counts()"
   ]
  },
  {
   "cell_type": "markdown",
   "id": "c2fa484a",
   "metadata": {},
   "source": [
    "### Relationships in data"
   ]
  },
  {
   "cell_type": "markdown",
   "id": "4947b3e6",
   "metadata": {},
   "source": [
    "One of the columns that might be important is the <b>date</b> because there might be rainy or monsoon seasons. As such, we might want to convert the date column to be of datetime type."
   ]
  },
  {
   "cell_type": "code",
   "execution_count": 103,
   "id": "015c68b1",
   "metadata": {},
   "outputs": [
    {
     "data": {
      "text/plain": [
       "0       2009-03-08\n",
       "1       2014-11-12\n",
       "3       2015-10-12\n",
       "4       2013-10-27\n",
       "5       2014-02-08\n",
       "           ...    \n",
       "12990   2014-09-26\n",
       "12991   2011-08-21\n",
       "12993   2016-09-29\n",
       "12995   2011-02-14\n",
       "12996   2016-03-04\n",
       "Name: Date, Length: 12026, dtype: datetime64[ns]"
      ]
     },
     "execution_count": 103,
     "metadata": {},
     "output_type": "execute_result"
    }
   ],
   "source": [
    "fishing_df[\"Date\"] = pd.to_datetime(fishing_df[\"Date\"])\n",
    "fishing_df[\"Date\"]"
   ]
  },
  {
   "cell_type": "code",
   "execution_count": 107,
   "id": "f61da989",
   "metadata": {},
   "outputs": [
    {
     "data": {
      "text/html": [
       "<div>\n",
       "<style scoped>\n",
       "    .dataframe tbody tr th:only-of-type {\n",
       "        vertical-align: middle;\n",
       "    }\n",
       "\n",
       "    .dataframe tbody tr th {\n",
       "        vertical-align: top;\n",
       "    }\n",
       "\n",
       "    .dataframe thead th {\n",
       "        text-align: right;\n",
       "    }\n",
       "</style>\n",
       "<table border=\"1\" class=\"dataframe\">\n",
       "  <thead>\n",
       "    <tr style=\"text-align: right;\">\n",
       "      <th></th>\n",
       "      <th>Date</th>\n",
       "      <th>Location</th>\n",
       "      <th>Rainfall</th>\n",
       "      <th>Evaporation</th>\n",
       "      <th>Sunshine</th>\n",
       "      <th>WindGustDir</th>\n",
       "      <th>WindGustSpeed</th>\n",
       "      <th>WindDir9am</th>\n",
       "      <th>WindDir3pm</th>\n",
       "      <th>WindSpeed9am</th>\n",
       "      <th>WindSpeed3pm</th>\n",
       "      <th>Humidity9am</th>\n",
       "      <th>Humidity3pm</th>\n",
       "      <th>Pressure9am</th>\n",
       "      <th>Pressure3pm</th>\n",
       "      <th>Cloud9am</th>\n",
       "      <th>Cloud3pm</th>\n",
       "      <th>RainToday</th>\n",
       "      <th>RainTomorrow</th>\n",
       "      <th>ColourOfBoats</th>\n",
       "      <th>AverageTemp</th>\n",
       "      <th>Month</th>\n",
       "    </tr>\n",
       "  </thead>\n",
       "  <tbody>\n",
       "    <tr>\n",
       "      <th>418</th>\n",
       "      <td>2008-07-01</td>\n",
       "      <td>Changi</td>\n",
       "      <td>0.0</td>\n",
       "      <td>1.4</td>\n",
       "      <td>9.5</td>\n",
       "      <td>WNW</td>\n",
       "      <td>26.0</td>\n",
       "      <td>SSW</td>\n",
       "      <td>W</td>\n",
       "      <td>6.0</td>\n",
       "      <td>15.0</td>\n",
       "      <td>81.0</td>\n",
       "      <td>37.0</td>\n",
       "      <td>mEd</td>\n",
       "      <td>Med</td>\n",
       "      <td>0.0</td>\n",
       "      <td>1.0</td>\n",
       "      <td>No</td>\n",
       "      <td>No</td>\n",
       "      <td>blue</td>\n",
       "      <td>29.6</td>\n",
       "      <td>7</td>\n",
       "    </tr>\n",
       "    <tr>\n",
       "      <th>605</th>\n",
       "      <td>2008-07-01</td>\n",
       "      <td>Woodlands</td>\n",
       "      <td>0.0</td>\n",
       "      <td>4.4</td>\n",
       "      <td>11.0</td>\n",
       "      <td>E</td>\n",
       "      <td>41.0</td>\n",
       "      <td>ENE</td>\n",
       "      <td>SSE</td>\n",
       "      <td>13.0</td>\n",
       "      <td>17.0</td>\n",
       "      <td>81.0</td>\n",
       "      <td>32.0</td>\n",
       "      <td>Med</td>\n",
       "      <td>mEd</td>\n",
       "      <td>1.0</td>\n",
       "      <td>2.0</td>\n",
       "      <td>No</td>\n",
       "      <td>No</td>\n",
       "      <td>white</td>\n",
       "      <td>34.0</td>\n",
       "      <td>7</td>\n",
       "    </tr>\n",
       "    <tr>\n",
       "      <th>4425</th>\n",
       "      <td>2008-07-01</td>\n",
       "      <td>Sentosa</td>\n",
       "      <td>2.0</td>\n",
       "      <td>2.8</td>\n",
       "      <td>7.0</td>\n",
       "      <td>W</td>\n",
       "      <td>63.0</td>\n",
       "      <td>W</td>\n",
       "      <td>W</td>\n",
       "      <td>37.0</td>\n",
       "      <td>35.0</td>\n",
       "      <td>60.0</td>\n",
       "      <td>38.0</td>\n",
       "      <td>loW</td>\n",
       "      <td>mEd</td>\n",
       "      <td>1.0</td>\n",
       "      <td>7.0</td>\n",
       "      <td>No</td>\n",
       "      <td>No</td>\n",
       "      <td>blue</td>\n",
       "      <td>27.0</td>\n",
       "      <td>7</td>\n",
       "    </tr>\n",
       "    <tr>\n",
       "      <th>7584</th>\n",
       "      <td>2008-07-02</td>\n",
       "      <td>Tuas</td>\n",
       "      <td>0.0</td>\n",
       "      <td>1.8</td>\n",
       "      <td>7.0</td>\n",
       "      <td>NE</td>\n",
       "      <td>22.0</td>\n",
       "      <td>ESE</td>\n",
       "      <td>ENE</td>\n",
       "      <td>6.0</td>\n",
       "      <td>9.0</td>\n",
       "      <td>80.0</td>\n",
       "      <td>39.0</td>\n",
       "      <td>higH</td>\n",
       "      <td>HIGh</td>\n",
       "      <td>0.0</td>\n",
       "      <td>6.0</td>\n",
       "      <td>No</td>\n",
       "      <td>No</td>\n",
       "      <td>white</td>\n",
       "      <td>27.5</td>\n",
       "      <td>7</td>\n",
       "    </tr>\n",
       "    <tr>\n",
       "      <th>1690</th>\n",
       "      <td>2008-07-02</td>\n",
       "      <td>Sentosa</td>\n",
       "      <td>0.6</td>\n",
       "      <td>5.2</td>\n",
       "      <td>4.0</td>\n",
       "      <td>W</td>\n",
       "      <td>63.0</td>\n",
       "      <td>W</td>\n",
       "      <td>WSW</td>\n",
       "      <td>30.0</td>\n",
       "      <td>35.0</td>\n",
       "      <td>66.0</td>\n",
       "      <td>52.0</td>\n",
       "      <td>MeD</td>\n",
       "      <td>MED</td>\n",
       "      <td>7.0</td>\n",
       "      <td>4.0</td>\n",
       "      <td>No</td>\n",
       "      <td>Yes</td>\n",
       "      <td>red</td>\n",
       "      <td>27.1</td>\n",
       "      <td>7</td>\n",
       "    </tr>\n",
       "    <tr>\n",
       "      <th>...</th>\n",
       "      <td>...</td>\n",
       "      <td>...</td>\n",
       "      <td>...</td>\n",
       "      <td>...</td>\n",
       "      <td>...</td>\n",
       "      <td>...</td>\n",
       "      <td>...</td>\n",
       "      <td>...</td>\n",
       "      <td>...</td>\n",
       "      <td>...</td>\n",
       "      <td>...</td>\n",
       "      <td>...</td>\n",
       "      <td>...</td>\n",
       "      <td>...</td>\n",
       "      <td>...</td>\n",
       "      <td>...</td>\n",
       "      <td>...</td>\n",
       "      <td>...</td>\n",
       "      <td>...</td>\n",
       "      <td>...</td>\n",
       "      <td>...</td>\n",
       "      <td>...</td>\n",
       "    </tr>\n",
       "    <tr>\n",
       "      <th>8670</th>\n",
       "      <td>2017-06-24</td>\n",
       "      <td>Changi</td>\n",
       "      <td>0.0</td>\n",
       "      <td>3.4</td>\n",
       "      <td>8.9</td>\n",
       "      <td>S</td>\n",
       "      <td>17.0</td>\n",
       "      <td>S</td>\n",
       "      <td>WNW</td>\n",
       "      <td>2.0</td>\n",
       "      <td>2.0</td>\n",
       "      <td>75.0</td>\n",
       "      <td>33.0</td>\n",
       "      <td>mEd</td>\n",
       "      <td>MEd</td>\n",
       "      <td>7.0</td>\n",
       "      <td>5.0</td>\n",
       "      <td>No</td>\n",
       "      <td>No</td>\n",
       "      <td>red</td>\n",
       "      <td>29.5</td>\n",
       "      <td>6</td>\n",
       "    </tr>\n",
       "    <tr>\n",
       "      <th>12254</th>\n",
       "      <td>2017-06-24</td>\n",
       "      <td>Tuas</td>\n",
       "      <td>0.0</td>\n",
       "      <td>3.8</td>\n",
       "      <td>9.3</td>\n",
       "      <td>SE</td>\n",
       "      <td>30.0</td>\n",
       "      <td>ESE</td>\n",
       "      <td>ESE</td>\n",
       "      <td>9.0</td>\n",
       "      <td>11.0</td>\n",
       "      <td>62.0</td>\n",
       "      <td>47.0</td>\n",
       "      <td>hIgH</td>\n",
       "      <td>HIGH</td>\n",
       "      <td>1.0</td>\n",
       "      <td>3.0</td>\n",
       "      <td>No</td>\n",
       "      <td>No</td>\n",
       "      <td>blue</td>\n",
       "      <td>28.2</td>\n",
       "      <td>6</td>\n",
       "    </tr>\n",
       "    <tr>\n",
       "      <th>10368</th>\n",
       "      <td>2017-06-25</td>\n",
       "      <td>Tuas</td>\n",
       "      <td>0.0</td>\n",
       "      <td>1.6</td>\n",
       "      <td>7.9</td>\n",
       "      <td>E</td>\n",
       "      <td>26.0</td>\n",
       "      <td>SE</td>\n",
       "      <td>SE</td>\n",
       "      <td>4.0</td>\n",
       "      <td>11.0</td>\n",
       "      <td>75.0</td>\n",
       "      <td>49.0</td>\n",
       "      <td>hIGh</td>\n",
       "      <td>HIGh</td>\n",
       "      <td>1.0</td>\n",
       "      <td>3.0</td>\n",
       "      <td>No</td>\n",
       "      <td>No</td>\n",
       "      <td>red</td>\n",
       "      <td>26.6</td>\n",
       "      <td>6</td>\n",
       "    </tr>\n",
       "    <tr>\n",
       "      <th>9646</th>\n",
       "      <td>2017-06-25</td>\n",
       "      <td>Sentosa</td>\n",
       "      <td>0.0</td>\n",
       "      <td>2.8</td>\n",
       "      <td>3.8</td>\n",
       "      <td>NW</td>\n",
       "      <td>35.0</td>\n",
       "      <td>N</td>\n",
       "      <td>NNW</td>\n",
       "      <td>13.0</td>\n",
       "      <td>17.0</td>\n",
       "      <td>67.0</td>\n",
       "      <td>56.0</td>\n",
       "      <td>MEd</td>\n",
       "      <td>MEd</td>\n",
       "      <td>7.0</td>\n",
       "      <td>7.0</td>\n",
       "      <td>No</td>\n",
       "      <td>Yes</td>\n",
       "      <td>white</td>\n",
       "      <td>26.5</td>\n",
       "      <td>6</td>\n",
       "    </tr>\n",
       "    <tr>\n",
       "      <th>12243</th>\n",
       "      <td>2017-06-25</td>\n",
       "      <td>Changi</td>\n",
       "      <td>0.0</td>\n",
       "      <td>2.2</td>\n",
       "      <td>9.8</td>\n",
       "      <td>ENE</td>\n",
       "      <td>20.0</td>\n",
       "      <td>SSW</td>\n",
       "      <td>NNE</td>\n",
       "      <td>2.0</td>\n",
       "      <td>7.0</td>\n",
       "      <td>68.0</td>\n",
       "      <td>53.0</td>\n",
       "      <td>Med</td>\n",
       "      <td>med</td>\n",
       "      <td>6.0</td>\n",
       "      <td>3.0</td>\n",
       "      <td>No</td>\n",
       "      <td>No</td>\n",
       "      <td>red</td>\n",
       "      <td>29.6</td>\n",
       "      <td>6</td>\n",
       "    </tr>\n",
       "  </tbody>\n",
       "</table>\n",
       "<p>12026 rows × 22 columns</p>\n",
       "</div>"
      ],
      "text/plain": [
       "            Date   Location  Rainfall  Evaporation  Sunshine WindGustDir   \n",
       "418   2008-07-01     Changi       0.0          1.4       9.5         WNW  \\\n",
       "605   2008-07-01  Woodlands       0.0          4.4      11.0           E   \n",
       "4425  2008-07-01    Sentosa       2.0          2.8       7.0           W   \n",
       "7584  2008-07-02       Tuas       0.0          1.8       7.0          NE   \n",
       "1690  2008-07-02    Sentosa       0.6          5.2       4.0           W   \n",
       "...          ...        ...       ...          ...       ...         ...   \n",
       "8670  2017-06-24     Changi       0.0          3.4       8.9           S   \n",
       "12254 2017-06-24       Tuas       0.0          3.8       9.3          SE   \n",
       "10368 2017-06-25       Tuas       0.0          1.6       7.9           E   \n",
       "9646  2017-06-25    Sentosa       0.0          2.8       3.8          NW   \n",
       "12243 2017-06-25     Changi       0.0          2.2       9.8         ENE   \n",
       "\n",
       "       WindGustSpeed WindDir9am WindDir3pm  WindSpeed9am  WindSpeed3pm   \n",
       "418             26.0        SSW          W           6.0          15.0  \\\n",
       "605             41.0        ENE        SSE          13.0          17.0   \n",
       "4425            63.0          W          W          37.0          35.0   \n",
       "7584            22.0        ESE        ENE           6.0           9.0   \n",
       "1690            63.0          W        WSW          30.0          35.0   \n",
       "...              ...        ...        ...           ...           ...   \n",
       "8670            17.0          S        WNW           2.0           2.0   \n",
       "12254           30.0        ESE        ESE           9.0          11.0   \n",
       "10368           26.0         SE         SE           4.0          11.0   \n",
       "9646            35.0          N        NNW          13.0          17.0   \n",
       "12243           20.0        SSW        NNE           2.0           7.0   \n",
       "\n",
       "       Humidity9am  Humidity3pm Pressure9am Pressure3pm  Cloud9am  Cloud3pm   \n",
       "418           81.0         37.0         mEd         Med       0.0       1.0  \\\n",
       "605           81.0         32.0         Med         mEd       1.0       2.0   \n",
       "4425          60.0         38.0         loW         mEd       1.0       7.0   \n",
       "7584          80.0         39.0        higH        HIGh       0.0       6.0   \n",
       "1690          66.0         52.0         MeD         MED       7.0       4.0   \n",
       "...            ...          ...         ...         ...       ...       ...   \n",
       "8670          75.0         33.0         mEd         MEd       7.0       5.0   \n",
       "12254         62.0         47.0        hIgH        HIGH       1.0       3.0   \n",
       "10368         75.0         49.0        hIGh        HIGh       1.0       3.0   \n",
       "9646          67.0         56.0         MEd         MEd       7.0       7.0   \n",
       "12243         68.0         53.0         Med         med       6.0       3.0   \n",
       "\n",
       "      RainToday RainTomorrow ColourOfBoats  AverageTemp  Month  \n",
       "418          No           No          blue         29.6      7  \n",
       "605          No           No         white         34.0      7  \n",
       "4425         No           No          blue         27.0      7  \n",
       "7584         No           No         white         27.5      7  \n",
       "1690         No          Yes           red         27.1      7  \n",
       "...         ...          ...           ...          ...    ...  \n",
       "8670         No           No           red         29.5      6  \n",
       "12254        No           No          blue         28.2      6  \n",
       "10368        No           No           red         26.6      6  \n",
       "9646         No          Yes         white         26.5      6  \n",
       "12243        No           No           red         29.6      6  \n",
       "\n",
       "[12026 rows x 22 columns]"
      ]
     },
     "execution_count": 107,
     "metadata": {},
     "output_type": "execute_result"
    }
   ],
   "source": [
    "fishing_df.sort_values(by=\"Date\")"
   ]
  },
  {
   "cell_type": "markdown",
   "id": "ae0143ef",
   "metadata": {},
   "source": [
    "Let's create a new column for the month of the year."
   ]
  },
  {
   "cell_type": "code",
   "execution_count": 105,
   "id": "2d1fcbd2",
   "metadata": {},
   "outputs": [
    {
     "data": {
      "text/plain": [
       "0         3\n",
       "1        11\n",
       "3        10\n",
       "4        10\n",
       "5         2\n",
       "         ..\n",
       "12990     9\n",
       "12991     8\n",
       "12993     9\n",
       "12995     2\n",
       "12996     3\n",
       "Name: Month, Length: 12026, dtype: int32"
      ]
     },
     "execution_count": 105,
     "metadata": {},
     "output_type": "execute_result"
    }
   ],
   "source": [
    "fishing_df[\"Month\"] = fishing_df[\"Date\"].dt.month\n",
    "fishing_df[\"Month\"]"
   ]
  },
  {
   "cell_type": "code",
   "execution_count": 106,
   "id": "9b76efaa",
   "metadata": {},
   "outputs": [
    {
     "data": {
      "text/plain": [
       "<Axes: xlabel='Month', ylabel='count'>"
      ]
     },
     "execution_count": 106,
     "metadata": {},
     "output_type": "execute_result"
    },
    {
     "data": {
      "image/png": "[encoded data removed]",
      "text/plain": [
       "<Figure size 640x480 with 1 Axes>"
      ]
     },
     "metadata": {},
     "output_type": "display_data"
    }
   ],
   "source": [
    "sns.countplot(x=\"Month\", data=fishing_df, hue=\"RainTomorrow\")"
   ]
  },
  {
   "cell_type": "markdown",
   "id": "a30f9a11",
   "metadata": {},
   "source": [
    "It seems the wettest months are in January and March."
   ]
  },
  {
   "cell_type": "code",
   "execution_count": null,
   "id": "637c7925",
   "metadata": {},
   "outputs": [],
   "source": []
  }
 ],
 "metadata": {
  "kernelspec": {
   "display_name": "aiap14",
   "language": "python",
   "name": "aiap14"
  },
  "language_info": {
   "codemirror_mode": {
    "name": "ipython",
    "version": 3
   },
   "file_extension": ".py",
   "mimetype": "text/x-python",
   "name": "python",
   "nbconvert_exporter": "python",
   "pygments_lexer": "ipython3",
   "version": "3.9.10"
  }
 },
 "nbformat": 4,
 "nbformat_minor": 5
}
